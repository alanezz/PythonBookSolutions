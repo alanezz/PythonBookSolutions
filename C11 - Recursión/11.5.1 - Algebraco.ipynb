{
 "cells": [
  {
   "cell_type": "markdown",
   "metadata": {},
   "source": [
    "# Ejercicio 11.5.1 - Algebraco"
   ]
  },
  {
   "cell_type": "markdown",
   "metadata": {},
   "source": [
    "Algebraco es una aplicación que sirve para manipular expresiones algebraicas. Internamente, Algebraco representa las expresiones aritméticas como:\n",
    "\n",
    "- un número entero, o\n",
    "- una lista de tres elementos donde, tanto el primer elemento como el segundo son expresiones, y el tercer elemento es un operador. Los operadores permitidos son los *strings* '+' , '-' , '*' y '/'.\n",
    "\n",
    "Así, ``4``, ``[1, [3, 4, '+'], '-']`` y ``[[5, 5, '$/$'], [2, 1, '-'], '+']`` son expresiones permitidas en Algebraco que corresponden a 4, (1-(3+4)) y ((5/5) + (2-1)) respectivamente.\n",
    "\n",
    "Tu misión es escribir una función ``evalua``, que tome como argumento una expresión de Algebraco y retorne el número al cual esta expresión es igual. Por ejemplo:\n",
    "\n",
    "- ``evalua(4)`` debe retornar 4\n",
    "- ``evalua([1, [3, 4, '+'], '-'])`` debe retornar -6\n",
    "- ``evalua([[11, 7, '-'], [4, 3, '+'], '*'])`` debe retornar 28\n",
    "\n",
    "**Ayuda:** Para saber si la variable ``a`` es un ``int``, puedes preguntar \n",
    "\n",
    "```python\n",
    "if type(a) == int\n",
    "```\n",
    "\n",
    "Informalmente, las subexpresiones de una expresión ``E`` son partes de ``E`` que al mismo tiempo son expresiones.\n",
    "\n",
    "Por ejemplo, si ``E = [1, [2, 3, '-'], '+']``, las subexpresiones de ``E`` son ``[1, [2, 3, '-'], '+']``, ``1``, ``[2, 3, '-']``, ``2`` y ``3``. Por definición, ``E`` es siempre una subexpresión de ``E``.\n",
    "\n",
    "Además, debes escribir una función ``cuenta`` que reciba una expresión y un número, tal que ``cuenta(exp, n)`` retorne el número de subexpresiones de``exp`` que, al evaluarse, tienen el valor ``n``. Por ejemplo,``cuenta([1, 1, '+'], 1)`` retorna 2 porque hay dos subexpresiones de ``[1, 1, '+']``, en particular 1 y 1, que son iguales a 1."
   ]
  },
  {
   "cell_type": "code",
   "execution_count": 4,
   "metadata": {},
   "outputs": [],
   "source": [
    "# Función recursiva que evalúa una expresion --> evalua(exp).\n",
    "def evalua(exp):\n",
    "    if type(exp) == int:\n",
    "        return exp\n",
    "    else:\n",
    "        if exp[2] == '+':\n",
    "            return evalua(exp[0]) + evalua(exp[1])\n",
    "        elif exp[2] == '-':\n",
    "            return evalua(exp[0]) - evalua(exp[1])\n",
    "        elif exp[2] == '*':\n",
    "            return evalua(exp[0]) * evalua(exp[1])\n",
    "        elif exp[2] == '/':\n",
    "            return evalua(exp[0]) / evalua(exp[1])"
   ]
  },
  {
   "cell_type": "markdown",
   "metadata": {},
   "source": [
    "Para implementar ```cuenta(exp, n)```, necesitaremos algunas funciones auxiliares."
   ]
  },
  {
   "cell_type": "code",
   "execution_count": 6,
   "metadata": {},
   "outputs": [],
   "source": [
    "# Función recursiva que retorna una lista con todas las subexpresiones.\n",
    "def subexp(exp, lista):\n",
    "    lista.append(exp)\n",
    "    if type(exp[0]) == int:\n",
    "        lista.append(exp[0])\n",
    "    else:\n",
    "        subexp(exp[0], lista)\n",
    "    if type(exp[1]) == int:\n",
    "        lista.append(exp[1])\n",
    "    else:\n",
    "        subexp(exp[1], lista)\n",
    "\n",
    "# Función que llama a subexp.\n",
    "def call_subexp(exp):\n",
    "    lista = []\n",
    "    subexp(exp, lista)\n",
    "    return lista\n",
    "\n",
    "# Función que retorna el numero de subexpresiones iguales a n --> cuenta(exp, n).\n",
    "def cuenta(exp, n):\n",
    "    subexpresiones = call_subexp(exp)\n",
    "    count = 0\n",
    "    for expresion in subexpresiones:\n",
    "        if evalua(expresion) == n:\n",
    "            count += 1\n",
    "    return count  "
   ]
  },
  {
   "cell_type": "markdown",
   "metadata": {},
   "source": [
    "Realizamos algunas pruebas de nuestro código con los mismos ejemplos entregados en el enunciado."
   ]
  },
  {
   "cell_type": "code",
   "execution_count": 9,
   "metadata": {},
   "outputs": [
    {
     "name": "stdout",
     "output_type": "stream",
     "text": [
      "4\n",
      "-6\n",
      "28\n",
      "2\n"
     ]
    }
   ],
   "source": [
    "# Primera prueba, debe retornar 4\n",
    "exp1 = 4\n",
    "print(evalua(exp1))\n",
    "\n",
    "# Segunda prueba, debe retornar -6\n",
    "exp2 = [1, [3, 4, '+'], '-']\n",
    "print(evalua(exp2))\n",
    "\n",
    "# Tercera prueba, debe retornar 28\n",
    "exp3 = [[11, 7, '-'], [4, 3, '+'], '*']\n",
    "print(evalua(exp3))\n",
    "\n",
    "# Cuarta prueba, debe retornar 2\n",
    "print(cuenta([1, 1, '+'], 1))"
   ]
  }
 ],
 "metadata": {
  "kernelspec": {
   "display_name": "Python 3",
   "language": "python",
   "name": "python3"
  },
  "language_info": {
   "codemirror_mode": {
    "name": "ipython",
    "version": 3
   },
   "file_extension": ".py",
   "mimetype": "text/x-python",
   "name": "python",
   "nbconvert_exporter": "python",
   "pygments_lexer": "ipython3",
   "version": "3.8.4"
  }
 },
 "nbformat": 4,
 "nbformat_minor": 2
}
