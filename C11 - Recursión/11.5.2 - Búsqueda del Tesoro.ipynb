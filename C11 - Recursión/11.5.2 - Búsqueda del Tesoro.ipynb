{
 "cells": [
  {
   "cell_type": "markdown",
   "metadata": {},
   "source": [
    "# Ejercicio 11.5.2 - Búsqueda del Tesoro"
   ]
  },
  {
   "cell_type": "markdown",
   "metadata": {},
   "source": [
    "Viendo el ejercicio propuesto [10.5.2](https://github.com/alanezz/PythonBookSolutions/blob/master/C10%20-%20Archivos/10.5.2%20-%20Cargar%20Mapa.ipynb) se te ocurre escribir un programa que encuentre el camino que debe seguir el capitán para encontrar el tesoro. Utiliza el código que desarrollaste en la sección anterior para cargar el mapa y almacenarlo en una lista de listas, luego utiliza recursión para indicar el camino con el cual encontrar el tesoro. Puedes asumir que el mapa que te llegará siempre tendrá por lo menos un camino con el cual llegar al tesoro."
   ]
  },
  {
   "cell_type": "markdown",
   "metadata": {},
   "source": [
    "Tenemos la función ``cargar_mapa()`` que habíamos creado en la sección anterior:"
   ]
  },
  {
   "cell_type": "code",
   "execution_count": 2,
   "metadata": {},
   "outputs": [],
   "source": [
    "def cargar_mapa(nombre_archivo):\n",
    "    mapa = []\n",
    "    with open(nombre_archivo, 'r') as f:\n",
    "        lineas = f.readlines()\n",
    "        for linea in lineas:\n",
    "            fila = []\n",
    "            for columna in linea.strip():\n",
    "                fila.append(columna)\n",
    "            mapa.append(fila)\n",
    "    return mapa"
   ]
  },
  {
   "cell_type": "markdown",
   "metadata": {},
   "source": [
    "Agregamos una función ``imprimir_mapa()`` para visualizarlo de mejor forma:"
   ]
  },
  {
   "cell_type": "code",
   "execution_count": 9,
   "metadata": {},
   "outputs": [],
   "source": [
    "def imprimir_mapa(mapa):\n",
    "    for fila in mapa:\n",
    "        print(fila)\n",
    "    print()"
   ]
  },
  {
   "cell_type": "markdown",
   "metadata": {},
   "source": [
    "Agregamos una función ``encontrar_capitan()`` para saber la posición donde comienza el capitán:"
   ]
  },
  {
   "cell_type": "code",
   "execution_count": 6,
   "metadata": {},
   "outputs": [],
   "source": [
    "def encontrar_capitan(mapa):\n",
    "    for x in range(len(mapa)):\n",
    "        for y in range(len(mapa[x])):\n",
    "            if mapa[x][y] == \"c\":\n",
    "                return x,y"
   ]
  },
  {
   "cell_type": "markdown",
   "metadata": {},
   "source": [
    "Tenemos nuestra función recursiva:"
   ]
  },
  {
   "cell_type": "code",
   "execution_count": 11,
   "metadata": {},
   "outputs": [],
   "source": [
    "def mover(mapa, x, y, d):\n",
    "    if mapa[x][y] == \"t\":\n",
    "        print(f\"Encontré el tesoro en la fila {x} y la columna {y}:\")\n",
    "        d[\"mover\"] = False\n",
    "\n",
    "    mapa[x][y] = \"o\"\n",
    "    imprimir_mapa(mapa)\n",
    "    \n",
    "    # arriba\n",
    "    if mapa[x-1][y] != \"x\" and mapa[x-1][y] != \"o\" and d[\"mover\"]:\n",
    "        mover(mapa, x-1, y, d)\n",
    "    # abajo\n",
    "    if mapa[x+1][y] != \"x\" and mapa[x+1][y] != \"o\" and d[\"mover\"]:\n",
    "        mover(mapa, x+1, y, d)\n",
    "    # derecha\n",
    "    if mapa[x][y+1] != \"x\" and mapa[x][y+1] != \"o\" and d[\"mover\"]:\n",
    "        mover(mapa, x, y+1, d)\n",
    "    # izquierda\n",
    "    if mapa[x][y-1] != \"x\" and mapa[x][y-1] != \"o\" and d[\"mover\"]:\n",
    "        mover(mapa, x, y-1, d)"
   ]
  },
  {
   "cell_type": "markdown",
   "metadata": {},
   "source": [
    "Cargamos el mapa y encontramos el tesoro:"
   ]
  },
  {
   "cell_type": "code",
   "execution_count": 12,
   "metadata": {},
   "outputs": [
    {
     "name": "stdout",
     "output_type": "stream",
     "text": [
      "['x', 'x', 'x', 'x', 'x', 'x', 'x', 'x']\n",
      "['x', ' ', 'x', 'x', 'x', 'x', 'x', 'x']\n",
      "['x', 'o', 'x', 'x', 't', ' ', 'x', 'x']\n",
      "['x', ' ', ' ', ' ', ' ', ' ', 'x', 'x']\n",
      "['x', 'x', 'x', 'x', 'x', 'x', 'x', 'x']\n",
      "\n",
      "['x', 'x', 'x', 'x', 'x', 'x', 'x', 'x']\n",
      "['x', 'o', 'x', 'x', 'x', 'x', 'x', 'x']\n",
      "['x', 'o', 'x', 'x', 't', ' ', 'x', 'x']\n",
      "['x', ' ', ' ', ' ', ' ', ' ', 'x', 'x']\n",
      "['x', 'x', 'x', 'x', 'x', 'x', 'x', 'x']\n",
      "\n",
      "['x', 'x', 'x', 'x', 'x', 'x', 'x', 'x']\n",
      "['x', 'o', 'x', 'x', 'x', 'x', 'x', 'x']\n",
      "['x', 'o', 'x', 'x', 't', ' ', 'x', 'x']\n",
      "['x', 'o', ' ', ' ', ' ', ' ', 'x', 'x']\n",
      "['x', 'x', 'x', 'x', 'x', 'x', 'x', 'x']\n",
      "\n",
      "['x', 'x', 'x', 'x', 'x', 'x', 'x', 'x']\n",
      "['x', 'o', 'x', 'x', 'x', 'x', 'x', 'x']\n",
      "['x', 'o', 'x', 'x', 't', ' ', 'x', 'x']\n",
      "['x', 'o', 'o', ' ', ' ', ' ', 'x', 'x']\n",
      "['x', 'x', 'x', 'x', 'x', 'x', 'x', 'x']\n",
      "\n",
      "['x', 'x', 'x', 'x', 'x', 'x', 'x', 'x']\n",
      "['x', 'o', 'x', 'x', 'x', 'x', 'x', 'x']\n",
      "['x', 'o', 'x', 'x', 't', ' ', 'x', 'x']\n",
      "['x', 'o', 'o', 'o', ' ', ' ', 'x', 'x']\n",
      "['x', 'x', 'x', 'x', 'x', 'x', 'x', 'x']\n",
      "\n",
      "['x', 'x', 'x', 'x', 'x', 'x', 'x', 'x']\n",
      "['x', 'o', 'x', 'x', 'x', 'x', 'x', 'x']\n",
      "['x', 'o', 'x', 'x', 't', ' ', 'x', 'x']\n",
      "['x', 'o', 'o', 'o', 'o', ' ', 'x', 'x']\n",
      "['x', 'x', 'x', 'x', 'x', 'x', 'x', 'x']\n",
      "\n",
      "Encontré el tesoro en la fila 2 y la columna 4:\n",
      "['x', 'x', 'x', 'x', 'x', 'x', 'x', 'x']\n",
      "['x', 'o', 'x', 'x', 'x', 'x', 'x', 'x']\n",
      "['x', 'o', 'x', 'x', 'o', ' ', 'x', 'x']\n",
      "['x', 'o', 'o', 'o', 'o', ' ', 'x', 'x']\n",
      "['x', 'x', 'x', 'x', 'x', 'x', 'x', 'x']\n",
      "\n"
     ]
    }
   ],
   "source": [
    "nombre_archivo = \"Archivos_Mapa/mapa_01.txt\"\n",
    "mapa = cargar_mapa(nombre_archivo)\n",
    "x,y = encontrar_capitan(mapa)\n",
    "d = {\"mover\": True}\n",
    "mover(mapa, x, y, d)"
   ]
  }
 ],
 "metadata": {
  "kernelspec": {
   "display_name": "Python 3",
   "language": "python",
   "name": "python3"
  },
  "language_info": {
   "codemirror_mode": {
    "name": "ipython",
    "version": 3
   },
   "file_extension": ".py",
   "mimetype": "text/x-python",
   "name": "python",
   "nbconvert_exporter": "python",
   "pygments_lexer": "ipython3",
   "version": "3.8.4"
  }
 },
 "nbformat": 4,
 "nbformat_minor": 4
}
