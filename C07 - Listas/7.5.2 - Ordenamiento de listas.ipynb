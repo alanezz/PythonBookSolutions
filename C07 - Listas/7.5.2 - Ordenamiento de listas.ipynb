{
 "cells": [
  {
   "cell_type": "markdown",
   "metadata": {},
   "source": [
    "# Ejercicio 7.5.2 - Ordenamiento de listas"
   ]
  },
  {
   "cell_type": "markdown",
   "metadata": {},
   "source": [
    "Dada una lista que llamaremos \"a\", compuesta de listas que pueden tener largos variables, escribe un programa que permita ordenar \"a\" de mayor a menor, según el último elemento de cada lista. Puedes asumir que las listas nunca estarán vacías. "
   ]
  },
  {
   "cell_type": "code",
   "execution_count": 1,
   "metadata": {},
   "outputs": [
    {
     "name": "stdout",
     "output_type": "stream",
     "text": [
      "[[1, 2, 3], [2], [1, 1]]\n"
     ]
    }
   ],
   "source": [
    "a = [[2], [1,1], [1,2,3]]\n",
    "\n",
    "def ordenar_por_ultimo_elemento(lista):\n",
    "    return lista[-1]\n",
    "\n",
    "a.sort(reverse=True, key=ordenar_por_ultimo_elemento)\n",
    "print(a)"
   ]
  },
  {
   "cell_type": "markdown",
   "metadata": {},
   "source": [
    "Podemos realizar lo anterior utilizando funciones lambda:"
   ]
  },
  {
   "cell_type": "code",
   "execution_count": 2,
   "metadata": {},
   "outputs": [
    {
     "name": "stdout",
     "output_type": "stream",
     "text": [
      "[[1, 2, 3], [2], [1, 1]]\n"
     ]
    }
   ],
   "source": [
    "b = [[2], [1,1], [1,2,3]]\n",
    "b.sort(reverse=True, key = lambda lista: lista[-1])\n",
    "print(b)"
   ]
  },
  {
   "cell_type": "code",
   "execution_count": null,
   "metadata": {},
   "outputs": [],
   "source": []
  }
 ],
 "metadata": {
  "kernelspec": {
   "display_name": "Python 3",
   "language": "python",
   "name": "python3"
  },
  "language_info": {
   "codemirror_mode": {
    "name": "ipython",
    "version": 3
   },
   "file_extension": ".py",
   "mimetype": "text/x-python",
   "name": "python",
   "nbconvert_exporter": "python",
   "pygments_lexer": "ipython3",
   "version": "3.8.4"
  }
 },
 "nbformat": 4,
 "nbformat_minor": 4
}
