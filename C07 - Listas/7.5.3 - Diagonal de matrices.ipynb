{
 "cells": [
  {
   "cell_type": "markdown",
   "metadata": {},
   "source": [
    "# Ejercicio 7.5.3 - Diagonal de matrices"
   ]
  },
  {
   "cell_type": "markdown",
   "metadata": {},
   "source": [
    "Crea una función que, dada una matriz cuadrada, calcule la suma de los valores de la diagonal. Luego, escribe un programa que permita al usuario ingresar el largo de una matriz cuadrada y que luego pida las filas correspondientes, donde cada elemento de la columna está separado por un espacio. Imprime el valor de la suma de las diagonales de esa matriz, utilizando la función creada."
   ]
  },
  {
   "cell_type": "code",
   "execution_count": 1,
   "metadata": {},
   "outputs": [],
   "source": [
    "def calcular_suma_diagonal(matriz):\n",
    "    suma = 0\n",
    "    for i in range(len(matriz)):\n",
    "        for j in range(len(matriz)):\n",
    "            if i == j:\n",
    "                suma += int(matriz[i][j])\n",
    "    return suma"
   ]
  },
  {
   "cell_type": "code",
   "execution_count": 2,
   "metadata": {},
   "outputs": [
    {
     "name": "stdout",
     "output_type": "stream",
     "text": [
      "Ingresa el largo de la matriz: 3\n",
      "Ingresa un valor: 1 2 3\n",
      "Ingresa un valor: 4 5 6\n",
      "Ingresa un valor: 7 8 9\n",
      "[['1', '2', '3'], ['4', '5', '6'], ['7', '8', '9']]\n",
      "15\n"
     ]
    }
   ],
   "source": [
    "largo_matriz = int(input(\"Ingresa el largo de la matriz: \"))\n",
    "\n",
    "matriz = []\n",
    "for i in range(largo_matriz):\n",
    "    row = input(\"Ingresa un valor: \").split()\n",
    "    matriz.append(row)\n",
    "\n",
    "print(matriz)\n",
    "print(calcular_suma_diagonal(matriz))"
   ]
  },
  {
   "cell_type": "code",
   "execution_count": null,
   "metadata": {},
   "outputs": [],
   "source": []
  }
 ],
 "metadata": {
  "kernelspec": {
   "display_name": "Python 3",
   "language": "python",
   "name": "python3"
  },
  "language_info": {
   "codemirror_mode": {
    "name": "ipython",
    "version": 3
   },
   "file_extension": ".py",
   "mimetype": "text/x-python",
   "name": "python",
   "nbconvert_exporter": "python",
   "pygments_lexer": "ipython3",
   "version": "3.8.4"
  }
 },
 "nbformat": 4,
 "nbformat_minor": 4
}
