{
 "cells": [
  {
   "cell_type": "markdown",
   "metadata": {},
   "source": [
    "# Ejercicio 7.5.1 - Recetas con listas y funciones"
   ]
  },
  {
   "cell_type": "markdown",
   "metadata": {},
   "source": [
    "Estuviste mirando el código que hiciste en la sección 4 para ayudar a tu amiga Jessi con su emprendimiento de pastelería, y te diste cuenta de que con los conocimientos que tienes hasta ahora de funciones y listas crees que puedes mejorarlo. Si no recuerdas el ejercicio, o no lo hiciste, revisa el ejercicio propuesto [4.3.2](https://github.com/alanezz/PythonBookSolutions/blob/master/C04%20-%20Control%20de%20flujo/4.3.2%20-%20Recetas.ipynb).\n",
    "\n",
    "Para este ejercicio, a tu código original, agrégale lo siguiente:\n",
    "\n",
    "- Crea una función, digamos ``calcular\\_precio(lista\\_ingredientes)``, que recibe una lista con los ingredientes ingresados a través de consola y que calcula el precio de una receta dada la información que viene en la lista de ingredientes. \n",
    "- Cada elemento de esta lista de ingredientes es también una lista de largo 4, que guarda el nombre del ingrediente, la cantidad de la receta, el precio unitario y la equivalencia (puedes guardarlos en el orden que quieras, pero recuerda el orden que elegiste para poder calcular el precio). Para cada ingrediente imprime cuanto aporta al costo de la receta.\n",
    "- En tu código principal agrega una variable ``ingredientes`` de tipo lista, donde irás guardando los ingredientes (que recuerda, también son listas, pero de largo 4) a medida que el usuario va ingresando la información por consola.  \n",
    "- Por último, cuando el usuario te pida por consola calcular el precio, usa la función que acabas de crear. Si ejecutas el programa, deberías obtener la misma respuesta que con tu código anterior (puede que exista una variación en el orden de los ``print()``, pero no es relevante)."
   ]
  },
  {
   "cell_type": "markdown",
   "metadata": {},
   "source": [
    "Agregamos la función que calcula el precio:"
   ]
  },
  {
   "cell_type": "code",
   "execution_count": 1,
   "metadata": {},
   "outputs": [],
   "source": [
    "def calcular_precio(lista_ingredientes):\n",
    "    precio = 0\n",
    "    for ingrediente in lista_ingredientes:\n",
    "        # ingrediente es [nombre, cantidad, precio, equivalencia]\n",
    "        # aporte = cantidad * equivalencia * precio_unitario\n",
    "        aporte = (ingrediente[1] * ingrediente[2] * ingrediente[3])\n",
    "        print(\"Aporte del ingrediente \", ingrediente[0], \": $\", aporte)\n",
    "        precio += aporte\n",
    "    return precio"
   ]
  },
  {
   "cell_type": "markdown",
   "metadata": {},
   "source": [
    "A nuestro código principal le agregamos lo solicitado"
   ]
  },
  {
   "cell_type": "code",
   "execution_count": 3,
   "metadata": {},
   "outputs": [
    {
     "name": "stdout",
     "output_type": "stream",
     "text": [
      "Ingresa el nombre de la receta: Panqueques\n",
      "--- Menú ---\n",
      "1. Agregar ingrediente\n",
      " 2. Calcular precio\n",
      "Qué deseas hacer?: 1\n",
      "Ingresa el nombre del ingrediente: Huevo\n",
      "Ingresa la cantidad: 2\n",
      "Ingresa el precio unitario: 50\n",
      "Ingresa la equivalencia: 1\n",
      "--- Menú ---\n",
      "1. Agregar ingrediente\n",
      " 2. Calcular precio\n",
      "Qué deseas hacer?: 1\n",
      "Ingresa el nombre del ingrediente: Leche\n",
      "Ingresa la cantidad: 200\n",
      "Ingresa el precio unitario: 800\n",
      "Ingresa la equivalencia: 0.001\n",
      "--- Menú ---\n",
      "1. Agregar ingrediente\n",
      " 2. Calcular precio\n",
      "Qué deseas hacer?: 2\n",
      "Aporte del ingrediente  Huevo : $ 100.0\n",
      "Aporte del ingrediente  Leche : $ 160.0\n",
      "El precio de la receta Panqueques es: $ 260.0\n"
     ]
    }
   ],
   "source": [
    "menu = \"--- Menú ---\\n1. Agregar ingrediente\\n 2. Calcular precio\"\n",
    "# Agregamos la variable ingredientes que comienza como lista vacía\n",
    "ingredientes = []\n",
    "\n",
    "receta = input(\"Ingresa el nombre de la receta: \")\n",
    "\n",
    "continuar = True\n",
    "while continuar:\n",
    "    print(menu)\n",
    "    opcion = input(\"Qué deseas hacer?: \")\n",
    "    if opcion == \"1\":\n",
    "        nombre_ingrediente = input(\"Ingresa el nombre del ingrediente: \")\n",
    "        cantidad = float(input(\"Ingresa la cantidad: \"))\n",
    "        precio_unitario = float(input(\"Ingresa el precio unitario: \"))\n",
    "        equivalencia = float(input(\"Ingresa la equivalencia: \"))\n",
    "        # Luego de que el usuario ingrese la info, la guardamos en una lista de largo 4\n",
    "        ingrediente = [nombre_ingrediente, cantidad, precio_unitario, equivalencia]\n",
    "        # Agregamos esta lista a la lista de ingredientes\n",
    "        ingredientes.append(ingrediente)\n",
    "    elif opcion == \"2\":\n",
    "        continuar = False\n",
    "\n",
    "# Usamos la función creada\n",
    "precio = calcular_precio(ingredientes)\n",
    "print(\"El precio de la receta\", receta, \"es: $\", precio)"
   ]
  },
  {
   "cell_type": "code",
   "execution_count": null,
   "metadata": {},
   "outputs": [],
   "source": []
  },
  {
   "cell_type": "code",
   "execution_count": null,
   "metadata": {},
   "outputs": [],
   "source": []
  }
 ],
 "metadata": {
  "kernelspec": {
   "display_name": "Python 3",
   "language": "python",
   "name": "python3"
  },
  "language_info": {
   "codemirror_mode": {
    "name": "ipython",
    "version": 3
   },
   "file_extension": ".py",
   "mimetype": "text/x-python",
   "name": "python",
   "nbconvert_exporter": "python",
   "pygments_lexer": "ipython3",
   "version": "3.8.4"
  }
 },
 "nbformat": 4,
 "nbformat_minor": 4
}
