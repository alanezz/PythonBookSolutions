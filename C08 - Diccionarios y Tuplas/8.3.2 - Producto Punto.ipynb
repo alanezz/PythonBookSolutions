{
 "cells": [
  {
   "cell_type": "markdown",
   "metadata": {},
   "source": [
    "# Ejercicio 8.3.2 - Producto Punto"
   ]
  },
  {
   "cell_type": "markdown",
   "metadata": {},
   "source": [
    "Escribe un programa que tenga la función ``calcular\\_producto\\_punto()`` que reciba como parámetros dos tuplas y retorne su producto punto (puedes asumir que esta función siempre recibirá tuplas del mismo largo). Luego, en tu programa principal, almacena los vectores (1,1,1) y (-2,5,0) en tuplas, y utiliza la función creada anteriormente para imprimir en pantalla su producto punto.\\\\\n",
    "\n",
    "Recuerda que un producto punto entre dos vectores se calcula de la siguiente forma:\n",
    "\n",
    "$\\sum_{i=1}^{n}x_{i} * y_{i}$\n",
    "\n",
    "donde $x_{i}$ es la i-ésima posición del vector $x$ que tiene largo $n$ e $y_{i}$ es la i-ésima posición del vector $y$ que también tiene largo $n$."
   ]
  },
  {
   "cell_type": "code",
   "execution_count": 1,
   "metadata": {},
   "outputs": [
    {
     "name": "stdout",
     "output_type": "stream",
     "text": [
      "3\n"
     ]
    }
   ],
   "source": [
    "def calcular_producto_punto(tupla1, tupla2):\n",
    "    producto_punto = 0\n",
    "    for i in range(len(tupla1)):\n",
    "        producto = tupla1[i] * tupla2[i]\n",
    "        producto_punto += producto \n",
    "    return producto_punto\n",
    "\n",
    "vector1 = (1,1,1)\n",
    "vector2 = (-2,5,0)\n",
    "\n",
    "print(calcular_producto_punto(vector1, vector2))"
   ]
  },
  {
   "cell_type": "code",
   "execution_count": null,
   "metadata": {},
   "outputs": [],
   "source": []
  }
 ],
 "metadata": {
  "kernelspec": {
   "display_name": "Python 3",
   "language": "python",
   "name": "python3"
  },
  "language_info": {
   "codemirror_mode": {
    "name": "ipython",
    "version": 3
   },
   "file_extension": ".py",
   "mimetype": "text/x-python",
   "name": "python",
   "nbconvert_exporter": "python",
   "pygments_lexer": "ipython3",
   "version": "3.8.4"
  }
 },
 "nbformat": 4,
 "nbformat_minor": 4
}
