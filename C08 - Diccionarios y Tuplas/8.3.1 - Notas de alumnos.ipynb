{
 "cells": [
  {
   "cell_type": "markdown",
   "metadata": {},
   "source": [
    "# Ejercicio 8.3.1 - Notas de alumnos"
   ]
  },
  {
   "cell_type": "markdown",
   "metadata": {},
   "source": [
    "Escribe un programa que permita al usuario guardar los nombres de los alumnos de una clase y las notas que han obtenido. La información deberá ser almacenada en un diccionario donde cada elemento tendrá como _key_ el nombre del alumno y como valor una lista con las notas de ese alumno."
   ]
  },
  {
   "cell_type": "code",
   "execution_count": 1,
   "metadata": {},
   "outputs": [
    {
     "name": "stdout",
     "output_type": "stream",
     "text": [
      "Ingresa el nombre del alumno, si deseas salir escribe salir\n",
      "Nombre del alumno: Matías\n",
      "Ingresa una nota para este alumno, si terminaste de ingresar notas escribe salir\n",
      "Ingresa la nota: 3.5\n",
      "Ingresa una nota para este alumno, si terminaste de ingresar notas escribe salir\n",
      "Ingresa la nota: 6.4\n",
      "Ingresa una nota para este alumno, si terminaste de ingresar notas escribe salir\n",
      "Ingresa la nota: 4\n",
      "Ingresa una nota para este alumno, si terminaste de ingresar notas escribe salir\n",
      "Ingresa la nota: salir\n",
      "Ingresa el nombre del alumno, si deseas salir escribe salir\n",
      "Nombre del alumno: Francisca\n",
      "Ingresa una nota para este alumno, si terminaste de ingresar notas escribe salir\n",
      "Ingresa la nota: 6.7\n",
      "Ingresa una nota para este alumno, si terminaste de ingresar notas escribe salir\n",
      "Ingresa la nota: 6\n",
      "Ingresa una nota para este alumno, si terminaste de ingresar notas escribe salir\n",
      "Ingresa la nota: 5.5\n",
      "Ingresa una nota para este alumno, si terminaste de ingresar notas escribe salir\n",
      "Ingresa la nota: salir\n",
      "Ingresa el nombre del alumno, si deseas salir escribe salir\n",
      "Nombre del alumno: Constanza\n",
      "Ingresa una nota para este alumno, si terminaste de ingresar notas escribe salir\n",
      "Ingresa la nota: 5.6\n",
      "Ingresa una nota para este alumno, si terminaste de ingresar notas escribe salir\n",
      "Ingresa la nota: 6.2\n",
      "Ingresa una nota para este alumno, si terminaste de ingresar notas escribe salir\n",
      "Ingresa la nota: 6\n",
      "Ingresa una nota para este alumno, si terminaste de ingresar notas escribe salir\n",
      "Ingresa la nota: salir\n",
      "Ingresa el nombre del alumno, si deseas salir escribe salir\n",
      "Nombre del alumno: salir\n",
      "{'Matías': ['3.5', '6.4', '4'], 'Francisca': ['6.7', '6', '5.5'], 'Constanza': ['5.6', '6.2', '6']}\n"
     ]
    }
   ],
   "source": [
    "\n",
    "notas_alumnos = {}\n",
    "\n",
    "continuar = True\n",
    "while continuar:\n",
    "\n",
    "    print(\"Ingresa el nombre del alumno, si deseas salir escribe salir\")\n",
    "    alumno = input(\"Nombre del alumno: \")\n",
    "    \n",
    "    if alumno == \"salir\":\n",
    "        continuar = False\n",
    "    \n",
    "    else:\n",
    "        ingresar_notas = True\n",
    "        notas = []\n",
    "        while ingresar_notas:\n",
    "            print(\"Ingresa una nota para este alumno, si terminaste de ingresar notas escribe salir\")\n",
    "            nota = input(\"Ingresa la nota: \")\n",
    "            \n",
    "            if  nota == \"salir\":\n",
    "                ingresar_notas = False\n",
    "            \n",
    "            else:\n",
    "                notas.append(nota)\n",
    "\n",
    "        notas_alumnos[alumno] = notas\n",
    "\n",
    "print(notas_alumnos)"
   ]
  },
  {
   "cell_type": "code",
   "execution_count": null,
   "metadata": {},
   "outputs": [],
   "source": []
  }
 ],
 "metadata": {
  "kernelspec": {
   "display_name": "Python 3",
   "language": "python",
   "name": "python3"
  },
  "language_info": {
   "codemirror_mode": {
    "name": "ipython",
    "version": 3
   },
   "file_extension": ".py",
   "mimetype": "text/x-python",
   "name": "python",
   "nbconvert_exporter": "python",
   "pygments_lexer": "ipython3",
   "version": "3.8.4"
  }
 },
 "nbformat": 4,
 "nbformat_minor": 4
}
