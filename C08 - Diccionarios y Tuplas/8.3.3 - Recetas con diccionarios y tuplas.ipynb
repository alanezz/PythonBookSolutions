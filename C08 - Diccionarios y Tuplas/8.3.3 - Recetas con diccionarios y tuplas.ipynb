{
 "cells": [
  {
   "cell_type": "markdown",
   "metadata": {},
   "source": [
    "# Ejercicio 8.3.3 - Recetas con diccionarios y tuplas"
   ]
  },
  {
   "cell_type": "markdown",
   "metadata": {},
   "source": [
    "Ahora que has aprendido un poco más sobre diccionarios y tuplas, volviste a revisar el código que hiciste en la sección 7 para ayudar a tu amiga Jessi con su emprendimiento de pastelería y crees que aún puedes mejorar su usabilidad, ya que antes el usuario debía recordar las unidades de medidas de la cantidad que iba en la receta y la de los precios para poder ingresar su equivalencia. Si no recuerdas el ejercicio, o no lo hiciste, revisa el enunciado del ejercicio propuesto [7.5.1](https://github.com/alanezz/PythonBookSolutions/blob/master/C07%20-%20Listas/7.5.1%20-%20Recetas%20con%20listas%20y%20funciones.ipynb).\n",
    "\n",
    "Para este ejercicio, modifica lo siguiente a tu código anterior:\n",
    "\n",
    "-   Agrega una variable ``equivalencias`` que guardará un diccionario, donde las llaves serán unidades de medidas que pueden ir en las recetas (\"cc\", \"gr\", \"unidad\") y los valores serán tuplas, cuyo primer elemento es el valor de la equivalencia (por ejemplo, 0.001) y el segundo valor la unidad de medida de los precios unitarios (\"Litro\", \"Kg\", \"Unidad\").\n",
    "-  Ya no se debe pedir la equivalencia a través del *input*, sino que se pedirá la unidad de medida que va en la receta (por ahora, asumiremos que las medidas ingresadas tendrán una correspondencia en el diccionario de equivalencias, por ejemplo, si ingresa \"cc\" como unidad de medida de receta, el diccionario de equivalencias contendrá como llave \"cc\" y el segundo valor de la tupla, que en este caso será \"Litro\", corresponderá con la unidad de medida del precio que se ingrese posteriormente, por ejemplo un 200 significará 200 por Litro).\n",
    "- En tu programa principal, antes de guardar la información del ingrediente, agrega una línea que obtenga el valor de la equivalencia (por ejemplo, 0.001) a partir de la unidad de medida ingresada. Luego, guarda esta información de la misma forma en que lo hacías en tu código anterior.\n",
    "- Si ejecutas el programa, deberías obtener la misma respuesta que con tu código anterior.\n"
   ]
  },
  {
   "cell_type": "markdown",
   "metadata": {},
   "source": [
    "Agregamos la variable ``equivalencias``:"
   ]
  },
  {
   "cell_type": "code",
   "execution_count": 3,
   "metadata": {},
   "outputs": [],
   "source": [
    "equivalencias = {\n",
    "    \"cc\": (0.001, \"Litro\"), \n",
    "    \"gr\": (0.001, \"Kg\"),\n",
    "    \"unidad\": (1, \"Unidad\")\n",
    "}"
   ]
  },
  {
   "cell_type": "markdown",
   "metadata": {},
   "source": [
    "Mantenemos la función ``calcular_precio()``"
   ]
  },
  {
   "cell_type": "code",
   "execution_count": 4,
   "metadata": {},
   "outputs": [],
   "source": [
    "def calcular_precio(lista_ingredientes):\n",
    "    precio = 0\n",
    "    for ingrediente in lista_ingredientes:\n",
    "        # ingrediente es [nombre, cantidad, precio, equivalencia]\n",
    "        # aporte = cantidad  * precio_unitario * equivalencia\n",
    "        aporte = (ingrediente[1] * ingrediente[2] * ingrediente[3])\n",
    "        print(\"Aporte del ingrediente \", ingrediente[0], \": $\", aporte)\n",
    "        precio += aporte\n",
    "    return precio"
   ]
  },
  {
   "cell_type": "markdown",
   "metadata": {},
   "source": [
    "Realizamos las modificaciones correspondientes a nuestro programa princiapl"
   ]
  },
  {
   "cell_type": "code",
   "execution_count": 5,
   "metadata": {},
   "outputs": [
    {
     "name": "stdout",
     "output_type": "stream",
     "text": [
      "Ingresa el nombre de la receta: Panqueques\n",
      "--- Menú ---\n",
      "1. Agregar ingrediente\n",
      " 2. Calcular precio\n",
      "Qué deseas hacer?: 1\n",
      "Ingresa el nombre del ingrediente: Huevo\n",
      "Ingresa la cantidad : 2\n",
      "Ingresa la unidad de medida: unidad\n",
      "Ingresa el precio unitario: 50\n",
      "--- Menú ---\n",
      "1. Agregar ingrediente\n",
      " 2. Calcular precio\n",
      "Qué deseas hacer?: 1\n",
      "Ingresa el nombre del ingrediente: Leche\n",
      "Ingresa la cantidad : 200\n",
      "Ingresa la unidad de medida: cc\n",
      "Ingresa el precio unitario: 800\n",
      "--- Menú ---\n",
      "1. Agregar ingrediente\n",
      " 2. Calcular precio\n",
      "Qué deseas hacer?: 2\n",
      "Aporte del ingrediente  Huevo : $ 100.0\n",
      "Aporte del ingrediente  Leche : $ 160.0\n",
      "El precio de la receta Panqueques es: $ 260.0\n"
     ]
    }
   ],
   "source": [
    "menu = \"--- Menú ---\\n1. Agregar ingrediente\\n 2. Calcular precio\"\n",
    "ingredientes = []\n",
    "\n",
    "receta = input(\"Ingresa el nombre de la receta: \")\n",
    "\n",
    "continuar = True\n",
    "while continuar:\n",
    "    print(menu)\n",
    "    opcion = input(\"Qué deseas hacer?: \")\n",
    "    if opcion == \"1\":\n",
    "\n",
    "        nombre_ingrediente = input(\"Ingresa el nombre del ingrediente: \")\n",
    "        cantidad = float(input(\"Ingresa la cantidad : \"))\n",
    "        # En ves de pedir la equivalencia, ingresamos la unidad de medida del ingrediente en la receta\n",
    "        medida_cantidad = input(\"Ingresa la unidad de medida: \")\n",
    "        precio_unitario = float(input(\"Ingresa el precio unitario: \"))\n",
    "\n",
    "        # Utilizamos el diccionario para obtener la equivalencia \n",
    "        equivalencia = equivalencias[medida_cantidad][0]\n",
    "        # Guardamos la información de la misma forma\n",
    "        ingrediente = [nombre_ingrediente, cantidad, precio_unitario, equivalencia]\n",
    "        ingredientes.append(ingrediente)\n",
    "\n",
    "    elif opcion == \"2\":\n",
    "        continuar = False\n",
    "\n",
    "precio = calcular_precio(ingredientes)\n",
    "print(\"El precio de la receta\", receta, \"es: $\", precio)"
   ]
  }
 ],
 "metadata": {
  "kernelspec": {
   "display_name": "Python 3",
   "language": "python",
   "name": "python3"
  },
  "language_info": {
   "codemirror_mode": {
    "name": "ipython",
    "version": 3
   },
   "file_extension": ".py",
   "mimetype": "text/x-python",
   "name": "python",
   "nbconvert_exporter": "python",
   "pygments_lexer": "ipython3",
   "version": "3.8.4"
  }
 },
 "nbformat": 4,
 "nbformat_minor": 4
}
