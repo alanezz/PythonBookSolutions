{
 "cells": [
  {
   "cell_type": "markdown",
   "metadata": {},
   "source": [
    "# Ejercicio 4.3.1 - Pares e impares"
   ]
  },
  {
   "cell_type": "markdown",
   "metadata": {},
   "source": [
    "Escribe un programa donde el usuario puede ingresar un número, luego se imprime \"Es par\", si el número es par y \"Es impar\" si no lo es. El usuario debe poder ingresar números continuamente y el programa debe detenerse en el caso de que el usuario ingrese \"x\"."
   ]
  },
  {
   "cell_type": "code",
   "execution_count": 1,
   "metadata": {},
   "outputs": [
    {
     "name": "stdout",
     "output_type": "stream",
     "text": [
      "Ingresa un número: 2\n",
      "Es par\n",
      "Ingresa un número: 4\n",
      "Es par\n",
      "Ingresa un número: 3\n",
      "Es impar\n",
      "Ingresa un número: x\n"
     ]
    }
   ],
   "source": [
    "continuar = True\n",
    "while continuar:\n",
    "    user_input = input(\"Ingresa un número: \")\n",
    "    if user_input == \"x\":\n",
    "        continuar = False\n",
    "    else:\n",
    "        if int(user_input) % 2 == 0:\n",
    "            print(\"Es par\")\n",
    "        else:\n",
    "            print(\"Es impar\")"
   ]
  },
  {
   "cell_type": "code",
   "execution_count": null,
   "metadata": {},
   "outputs": [],
   "source": []
  }
 ],
 "metadata": {
  "kernelspec": {
   "display_name": "Python 3",
   "language": "python",
   "name": "python3"
  },
  "language_info": {
   "codemirror_mode": {
    "name": "ipython",
    "version": 3
   },
   "file_extension": ".py",
   "mimetype": "text/x-python",
   "name": "python",
   "nbconvert_exporter": "python",
   "pygments_lexer": "ipython3",
   "version": "3.8.4"
  }
 },
 "nbformat": 4,
 "nbformat_minor": 4
}
