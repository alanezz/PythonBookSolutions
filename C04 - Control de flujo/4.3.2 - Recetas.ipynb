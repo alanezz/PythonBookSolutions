{
 "cells": [
  {
   "cell_type": "markdown",
   "metadata": {},
   "source": [
    "# Ejercicio 4.3.2 - Recetas"
   ]
  },
  {
   "cell_type": "markdown",
   "metadata": {},
   "source": [
    "Tu amiga Jessi que estaba pensando en empezar con su emprendimiento de pastelería te ha pedido ayuda nuevamente, porque ahora necesita calcular el costo de una receta completa y no solo el aporte de cada ingrediente. Para esto, escribe un programa que:\n",
    "\n",
    "- Pida al usuario el nombre de la receta\n",
    "\n",
    "- Despliegue un menú con las siguientes opciones:\n",
    "\n",
    "    1. Agregar un ingrediente\n",
    "    2. Calcular el precio de la receta\n",
    "\n",
    "\n",
    "- Si se elige la opción 1, se debe pedir el nombre del ingrediente (por ejemplo, leche), la cantidad de ese ingrediente que va en la receta (si son 200 cc debe ingresar 200), el precio unitario del ingrediente (por ejemplo, el precio de la leche es 800 por Litro, por lo que debe ingresar 800), y finalmente la equivalencia entre la unidad de la receta y la del precio unitario (por ejemplo, 1 cc son 0.001 Litros, por lo que debe ingresar 0.001). Luego de esto, se debe imprimir el aporte de ese ingrediente (que se calcula como $\\text{cantidad} * \\text{precio\\_unitario} * \\text{equivalencia}$), desplegar nuevamente el menú y permitir elegir una de las opciones anteriores.\n",
    "\n",
    "- Si se elige la opción 2, el programa termina y se calcula el precio total de la receta (esto se calcula como la suma de los aportes de cada ingrediente ingresado).\n",
    "\n"
   ]
  },
  {
   "cell_type": "code",
   "execution_count": 1,
   "metadata": {},
   "outputs": [
    {
     "name": "stdout",
     "output_type": "stream",
     "text": [
      "Ingresa el nombre de la receta: Panqueques\n",
      "--- Menú ---\n",
      "1. Agregar ingrediente\n",
      " 2. Calcular precio\n",
      "Qué deseas hacer?: 1\n",
      "Ingresa el nombre del ingrediente: Huevo\n",
      "Ingresa la cantidad: 2\n",
      "Ingresa el precio unitario: 50\n",
      "Ingresa la equivalencia: 1\n",
      "Aporte del ingrediente  Huevo : $ 100.0\n",
      "--- Menú ---\n",
      "1. Agregar ingrediente\n",
      " 2. Calcular precio\n",
      "Qué deseas hacer?: 1\n",
      "Ingresa el nombre del ingrediente: Leche\n",
      "Ingresa la cantidad: 200\n",
      "Ingresa el precio unitario: 800\n",
      "Ingresa la equivalencia: 0.001\n",
      "Aporte del ingrediente  Leche : $ 160.0\n",
      "--- Menú ---\n",
      "1. Agregar ingrediente\n",
      " 2. Calcular precio\n",
      "Qué deseas hacer?: 2\n",
      "El precio de la receta Panqueques es: $ 260.0\n"
     ]
    }
   ],
   "source": [
    "precio = 0\n",
    "menu = \"--- Menú ---\\n1. Agregar ingrediente\\n 2. Calcular precio\"\n",
    "\n",
    "receta = input(\"Ingresa el nombre de la receta: \")\n",
    "\n",
    "continuar = True\n",
    "while continuar:\n",
    "    print(menu)\n",
    "    opcion = input(\"Qué deseas hacer?: \")\n",
    "    if opcion == \"1\":\n",
    "        ingrediente = input(\"Ingresa el nombre del ingrediente: \")\n",
    "        cantidad = float(input(\"Ingresa la cantidad: \"))\n",
    "        precio_unitario = float(input(\"Ingresa el precio unitario: \"))\n",
    "        equivalencia = float(input(\"Ingresa la equivalencia: \"))\n",
    "        aporte = (cantidad * equivalencia * precio_unitario)\n",
    "        precio += aporte\n",
    "        print(\"Aporte del ingrediente \", ingrediente, \": $\", aporte)\n",
    "    elif opcion == \"2\":\n",
    "        continuar = False\n",
    "\n",
    "print(\"El precio de la receta\", receta, \"es: $\", precio)"
   ]
  },
  {
   "cell_type": "code",
   "execution_count": null,
   "metadata": {},
   "outputs": [],
   "source": []
  }
 ],
 "metadata": {
  "kernelspec": {
   "display_name": "Python 3",
   "language": "python",
   "name": "python3"
  },
  "language_info": {
   "codemirror_mode": {
    "name": "ipython",
    "version": 3
   },
   "file_extension": ".py",
   "mimetype": "text/x-python",
   "name": "python",
   "nbconvert_exporter": "python",
   "pygments_lexer": "ipython3",
   "version": "3.8.4"
  }
 },
 "nbformat": 4,
 "nbformat_minor": 4
}
