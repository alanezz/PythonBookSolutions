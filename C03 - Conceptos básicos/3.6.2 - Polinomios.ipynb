{
 "cells": [
  {
   "cell_type": "markdown",
   "metadata": {},
   "source": [
    "# Ejercicio 3.6.2 - Polinomios"
   ]
  },
  {
   "cell_type": "markdown",
   "metadata": {},
   "source": [
    "Dados los polinomios $P(x) = x^2 + 3x + 4$ y $Q(x) = 2x + 5$, escribe un programa que permita al usuario ingresar un valor de $x$ y que luego calcule y muestre el resultado de $P(x) + Q(x)$."
   ]
  },
  {
   "cell_type": "code",
   "execution_count": 1,
   "metadata": {},
   "outputs": [
    {
     "name": "stdout",
     "output_type": "stream",
     "text": [
      "Ingresa el valor de x: 1\n",
      "15\n"
     ]
    }
   ],
   "source": [
    "x = int(input(\"Ingresa el valor de x: \"))\n",
    "p = (x ** 2) + (3 * x) + 4\n",
    "q = (2 * x) + 5\n",
    "print(p + q)"
   ]
  },
  {
   "cell_type": "code",
   "execution_count": null,
   "metadata": {},
   "outputs": [],
   "source": []
  }
 ],
 "metadata": {
  "kernelspec": {
   "display_name": "Python 3",
   "language": "python",
   "name": "python3"
  },
  "language_info": {
   "codemirror_mode": {
    "name": "ipython",
    "version": 3
   },
   "file_extension": ".py",
   "mimetype": "text/x-python",
   "name": "python",
   "nbconvert_exporter": "python",
   "pygments_lexer": "ipython3",
   "version": "3.8.4"
  }
 },
 "nbformat": 4,
 "nbformat_minor": 4
}
