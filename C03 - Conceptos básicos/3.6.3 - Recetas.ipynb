{
 "cells": [
  {
   "cell_type": "markdown",
   "metadata": {},
   "source": [
    "# Ejercicio 3.6.3 - Recetas"
   ]
  },
  {
   "cell_type": "markdown",
   "metadata": {},
   "source": [
    "Tu amiga Jessi está pensando en empezar con un emprendimiento de pastelería y te ha pedido ayuda porque necesita calcular el costo de las recetas que va a cocinar, en específico para este ejercicio, necesita saber cuál es el aporte al costo que tiene un determinado ingrediente. Para esto, tienes que escribir un programa que le permita ingresar el nombre del ingrediente (por ejemplo, leche), la cantidad de ese ingrediente que va en la receta (si son 200 cc debe ingresar 200), el precio unitario del ingrediente (por ejemplo, el precio de la leche es 800 por Litro, por lo que debe ingresar 800), y finalmente la equivalencia entre la unidad de la receta y la del precio unitario (por ejemplo, 1 cc son 0.001 Litros, por lo que debe ingresar 0.001). El aporte de ese ingrediente al costo de la receta es $\\text{cantidad} * \\text{precio_unitario} * \\text{equivalencia}$. Tu programa debe imprimir el nombre del ingrediente y su aporte al costo. "
   ]
  },
  {
   "cell_type": "code",
   "execution_count": 2,
   "metadata": {},
   "outputs": [
    {
     "name": "stdout",
     "output_type": "stream",
     "text": [
      "Ingresa el nombre del ingrediente: Leche\n",
      "Ingresa la cantidad: 200\n",
      "Ingresa el precio unitario: 800\n",
      "Ingresa la equivalencia: 0.001\n",
      "Aporte del ingrediente Leche : $ 160.0\n"
     ]
    }
   ],
   "source": [
    "ingrediente = input(\"Ingresa el nombre del ingrediente: \")\n",
    "cantidad = float(input(\"Ingresa la cantidad: \"))\n",
    "precio_unitario = float(input(\"Ingresa el precio unitario: \"))\n",
    "equivalencia = float(input(\"Ingresa la equivalencia: \"))\n",
    "aporte = (cantidad * equivalencia * precio_unitario)\n",
    "print(\"Aporte del ingrediente\", ingrediente, \": $\", aporte)"
   ]
  },
  {
   "cell_type": "code",
   "execution_count": null,
   "metadata": {},
   "outputs": [],
   "source": []
  }
 ],
 "metadata": {
  "kernelspec": {
   "display_name": "Python 3",
   "language": "python",
   "name": "python3"
  },
  "language_info": {
   "codemirror_mode": {
    "name": "ipython",
    "version": 3
   },
   "file_extension": ".py",
   "mimetype": "text/x-python",
   "name": "python",
   "nbconvert_exporter": "python",
   "pygments_lexer": "ipython3",
   "version": "3.8.4"
  }
 },
 "nbformat": 4,
 "nbformat_minor": 4
}
