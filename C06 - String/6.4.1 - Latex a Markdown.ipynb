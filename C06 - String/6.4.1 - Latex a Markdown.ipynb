{
 "cells": [
  {
   "cell_type": "markdown",
   "metadata": {},
   "source": [
    "# Ejercicio 6.4.1 - Latex a Markdown"
   ]
  },
  {
   "cell_type": "markdown",
   "metadata": {},
   "source": [
    "En este ejercicio vamos a hacer una versión simplificada de un traductor de texto en [Latex](https://es.wikipedia.org/wiki/LaTeX) a texto en [Markdown](https://es.wikipedia.org/wiki/Markdown). Para esto, solo consideraremos las siguientes transformaciones:\n",
    "\n",
    "- Letras en negrita\n",
    "- Letras en cursiva\n",
    "- Listado de elementos\n",
    "\n",
    "Si no estás familiarizado con Latex, a continuación te presentamos cómo se realizan las instrucciones listadas en este lenguaje:\n",
    "\n",
    "![image](figs/fig-latex-instructions.png)\n",
    "\n",
    "\n",
    "Si no estás familiarizado con Markdown, esta es la forma en que se realizan las mismas instrucciones anteriores:\n",
    "\n",
    "![image](figs/fig-markdown-instructions.png)\n",
    "\n",
    "Entonces, tu programa debe recibir un _string_ con un texto en formato Latex y debe imprimir el texto en formato Markdown. Ejemplos de la interacción del programa:\n",
    "\n",
    "- Input del programa (texto en Latex):\n",
    "\n",
    "```py\n",
    "\t\"\\\\textit{Esto está en cursiva}. \\\\textbf{Esto en negrita}. \"\n",
    "```\n",
    "\t\n",
    "- Output del programa (texto en Markdown):\n",
    "\n",
    "```\n",
    "    >>>\n",
    "\t_Esto está en cursiva_. **Esto en negrita**.\n",
    "    >>>\n",
    "```\n",
    "\t\n",
    "- Input del programa (texto en Latex):\n",
    "\n",
    "```py\n",
    "\t\"Lo siguiente está itemizado: \\\\begin{itemize} \\item Primer elemento \\item Segundo elemento \\\\end{itemize} \"\n",
    "```\n",
    "\t\n",
    "- Output del programa (texto en Markdown):\n",
    "```\n",
    "    >>>\n",
    "\tLo siguiente está itemizado:\n",
    "    - Primer elemento \n",
    "    - Segundo elemento\n",
    "    >>>\n",
    "```\n",
    "\n",
    "- Nótese que el output anterior corresponde al siguiente *string*:\n",
    "```py\n",
    "    \"Lo siguiente está itemizado: \\n- Primer elemento \\n- Segundo elemento\"\n",
    "```\n",
    "\t\n",
    "Ten en cuenta lo siguiente:\n",
    "\n",
    "- Fíjate en los ejemplos anteriores como se manejan los saltos de línea y como se escapan algunos caracteres (donde hay doble backslash).\n",
    "-  Puedes asumir que el código que llega en Latex está bien escrito, por lo tanto, no tendrás problemas con las llaves. \n",
    "-  Para el caso de listar elementos, puedes considerar que la instrucción en latex te llegará sin saltos de línea. Pero al momento de transformarlo, ten en consideración que en markdown, los saltos de línea antes de cada guión son muy importantes. \n",
    "- Un texto a traducir puede contener una combinación de las tres instrucciones listadas y en cantidades arbitriarias. \n",
    "- También te recomendamos que empieces a poner en práctica lo aprendido en la sección anterior sobre funciones. "
   ]
  },
  {
   "cell_type": "markdown",
   "metadata": {},
   "source": [
    "Para la solución, implementamos primero las funciones para cada tipo de instrucción: negrita, cursiva y listado. En el caso de letras en negrita, tomamos le entregamos como parámetro el texto que se resalta, por lo que le agregamos los asteriscos correspondientes."
   ]
  },
  {
   "cell_type": "code",
   "execution_count": null,
   "metadata": {},
   "outputs": [],
   "source": [
    "def bold(text):\n",
    "    return \"**{}**\".format(text)"
   ]
  },
  {
   "cell_type": "markdown",
   "metadata": {},
   "source": [
    "En el caso de letras en cursiva, seguimos la misma lógica, pero en vez de los asteriscos, le agregamos un guión a cada lado."
   ]
  },
  {
   "cell_type": "code",
   "execution_count": null,
   "metadata": {},
   "outputs": [],
   "source": [
    "def italic(text):\n",
    "    return \"_{}_\".format(text)"
   ]
  },
  {
   "cell_type": "markdown",
   "metadata": {},
   "source": [
    "Para el caso de listar elementos, es un poco más complejo, ya que en el texto que queremos listar, tenemos que ir separando según ``\\item``. Aquí se propone una manera de hacerlo, pero probablemente existen formas más eficientes de realizarlas una vez que se haya adquirido más conocimiento (por ejemplo, utilizando ``split()`` que se ve más adelante en la sección de listas, o también con expresiones regulares).\n",
    "\n",
    "Notar que el parámetro ``text`` será un _string_ de este estilo:\n",
    "\n",
    "```py\n",
    "\" \\item Primer elemento \\item Segundo elemento\"\n",
    "```"
   ]
  },
  {
   "cell_type": "code",
   "execution_count": 4,
   "metadata": {},
   "outputs": [],
   "source": [
    "def itemize(text):\n",
    "    # itemized text será el string que iremos formando con los elementos\n",
    "    itemized_text = \"\" \n",
    "    # cada vez que listemos un elementos, lo eliminaremos del string, por lo que en text_actualizado iremos guardando el nuevo valor\n",
    "    text_actualizado = text\n",
    "    # podemos contar cuantos elementos tendremos contando los \\item, para saber cuantas iteraciones haremos\n",
    "    cantidad_elementos = text.count(\"\\item\")\n",
    "   \n",
    "    for i in range(cantidad_elementos):\n",
    "        # vemos en qué posición comienza la primera instrucción \\item\n",
    "        index_item = text_actualizado.index(\"\\item\") \n",
    "        # con la variable anterior nos movemos 6 posiciones (el largo del string \"\\item\" + 1) para saber donde comienza el elemento\n",
    "        item_inicio = index_item + 6\n",
    "        \n",
    "        # si es que ya estamos en el último elemento, el fin del elemento será el fin del texto actualizado\n",
    "        if i == cantidad_elementos - 1:\n",
    "            item = text_actualizado[item_inicio:]\n",
    "        # si aún nos quedan elementos por iterar, el elemento que estamos agregando llegará hasta el comienzo del siguiente \\item\n",
    "        else:\n",
    "            item_fin = text_actualizado[item_inicio:].index(\"\\item\") + 7\n",
    "            item = text_actualizado[item_inicio:item_fin]\n",
    "            text_actualizado = text_actualizado[item_fin:]\n",
    "\n",
    "        # agregamos el elemento con un salto de línea al comienzo, seguido se un guión\n",
    "        itemized_text += \"\\n- {}\".format(item)\n",
    "        \n",
    "    return itemized_text"
   ]
  },
  {
   "cell_type": "markdown",
   "metadata": {},
   "source": [
    "Ahora realizamos nuestra función principal, que recibe el texto entero en formato latex y va buscando las diferentes instrucciones y actualizando el texto en una lógica más o menos similar  a la seguida en la función ``itemize``."
   ]
  },
  {
   "cell_type": "code",
   "execution_count": 12,
   "metadata": {},
   "outputs": [],
   "source": [
    "def latex_a_markdown(text_latex):\n",
    "    markdown_text = text_latex\n",
    "\n",
    "    while True:\n",
    "        if \"\\\\textbf{\" in markdown_text:\n",
    "            # Vemos donde comienza la instrucción\n",
    "            index_instruccion = markdown_text.index(\"\\\\textbf{\")\n",
    "            # Vemos el inicio y el fin del texto en negrita\n",
    "            bold_inicio = index_instruccion + 8 \n",
    "            bold_fin = (markdown_text[index_instruccion:]).index(\"}\") + len(markdown_text[:index_instruccion])\n",
    "            # Usamos la función bold para pasarlo a formato markdown\n",
    "            bold_markdown = bold(markdown_text[bold_inicio:bold_fin])\n",
    "            # Actualizamos el texto en markdown\n",
    "            markdown_text = markdown_text[:index_instruccion] + bold_markdown + markdown_text[bold_fin + 1:]\n",
    "        \n",
    "        elif \"\\\\textit{\" in markdown_text:\n",
    "            # Seguimos la misma idea anterior\n",
    "            index_instruccion = markdown_text.index(\"\\\\textit{\")\n",
    "\n",
    "            italic_inicio = index_instruccion + 8 \n",
    "            italic_fin = markdown_text[index_instruccion:].index(\"}\") + len(markdown_text[:index_instruccion])\n",
    "            \n",
    "            italic_markdown = italic(markdown_text[italic_inicio:italic_fin])\n",
    "            \n",
    "            markdown_text = markdown_text[:index_instruccion] + italic_markdown + markdown_text[italic_fin + 1:]\n",
    "\n",
    "        elif \"\\\\begin{itemize}\" in markdown_text:\n",
    "            # Vemos donde comienza y termina la instrucción\n",
    "            index_instruccion = markdown_text.index(\"\\\\begin{itemize}\")\n",
    "            \n",
    "            itemize_inicio = index_instruccion + 15\n",
    "            itemize_fin = markdown_text.index(\"\\\\end{itemize}\")\n",
    "\n",
    "            itemized_markdown = itemize(markdown_text[itemize_inicio:itemize_fin])\n",
    "            \n",
    "            markdown_text = markdown_text[:index_instruccion] + itemized_markdown + markdown_text[itemize_fin + 14:]\n",
    "\n",
    "        else:\n",
    "            return markdown_text"
   ]
  },
  {
   "cell_type": "markdown",
   "metadata": {},
   "source": [
    "Para probar nuestro programa, definimos algunos _string_ de prueba con combinaciones de instrucciones en latex e imprimimos lo que retorna la función ``latex_a_markdown()``:"
   ]
  },
  {
   "cell_type": "code",
   "execution_count": 16,
   "metadata": {},
   "outputs": [
    {
     "name": "stdout",
     "output_type": "stream",
     "text": [
      "Hola **esto está en negrita**. \n"
     ]
    }
   ],
   "source": [
    "bold_1 = \"Hola \\\\textbf{esto está en negrita}. \"\n",
    "print(latex_a_markdown(bold_1))"
   ]
  },
  {
   "cell_type": "code",
   "execution_count": 17,
   "metadata": {},
   "outputs": [
    {
     "name": "stdout",
     "output_type": "stream",
     "text": [
      "Hola **esto está en negrita**. **Esto también**. \n"
     ]
    }
   ],
   "source": [
    "bold_2 = \"Hola \\\\textbf{esto está en negrita}. \\\\textbf{Esto también}. \"\n",
    "print(latex_a_markdown(bold_2))"
   ]
  },
  {
   "cell_type": "code",
   "execution_count": 18,
   "metadata": {},
   "outputs": [
    {
     "name": "stdout",
     "output_type": "stream",
     "text": [
      "Otro ejemplo: _esto está en cursiva_. \n"
     ]
    }
   ],
   "source": [
    "italic_1 = \"Otro ejemplo: \\\\textit{esto está en cursiva}. \"\n",
    "print(latex_a_markdown(italic_1))"
   ]
  },
  {
   "cell_type": "code",
   "execution_count": 19,
   "metadata": {},
   "outputs": [
    {
     "name": "stdout",
     "output_type": "stream",
     "text": [
      "Otro ejemplo: _esto está en cursiva_. _Esto también_. \n"
     ]
    }
   ],
   "source": [
    "italic_2 = \"Otro ejemplo: \\\\textit{esto está en cursiva}. \\\\textit{Esto también}. \"\n",
    "print(latex_a_markdown(italic_2))"
   ]
  },
  {
   "cell_type": "code",
   "execution_count": 20,
   "metadata": {},
   "outputs": [
    {
     "name": "stdout",
     "output_type": "stream",
     "text": [
      "_Esto está en cursiva_. **Esto en negrita**. \n"
     ]
    }
   ],
   "source": [
    "bold_italic = \"\\\\textit{Esto está en cursiva}. \\\\textbf{Esto en negrita}. \"\n",
    "print(latex_a_markdown(bold_italic))"
   ]
  },
  {
   "cell_type": "code",
   "execution_count": 24,
   "metadata": {},
   "outputs": [
    {
     "name": "stdout",
     "output_type": "stream",
     "text": [
      "Lo siguiente está itemizado: \n",
      "- Primer elemento \n",
      "- Segundo elemento \n"
     ]
    }
   ],
   "source": [
    "itemize_1 = \"Lo siguiente está itemizado: \\\\begin{itemize} \\item Primer elemento \\item Segundo elemento \\\\end{itemize} \"\n",
    "print(latex_a_markdown(itemize_1))"
   ]
  },
  {
   "cell_type": "code",
   "execution_count": 26,
   "metadata": {},
   "outputs": [
    {
     "name": "stdout",
     "output_type": "stream",
     "text": [
      "Y ahora unos elementos: \n",
      "- Primer elemento \n",
      "- Segundo elemento \n",
      " Ahora otro: \n",
      "- Primer elemento \n",
      "- Segundo elemento \n"
     ]
    }
   ],
   "source": [
    "itemize_2 = \"Y ahora unos elementos: \\\\begin{itemize} \\item Primer elemento \\item Segundo elemento \\\\end{itemize}.\\n Ahora otro: \\\\begin{itemize} \\item Primer elemento \\item Segundo elemento \\\\end{itemize}\" \n",
    "print(latex_a_markdown(itemize_2))"
   ]
  },
  {
   "cell_type": "code",
   "execution_count": 27,
   "metadata": {},
   "outputs": [
    {
     "name": "stdout",
     "output_type": "stream",
     "text": [
      "Hola **esto está en negrita**. Otro ejemplo: _esto está en cursiva_. Lo siguiente está itemizado: \n",
      "- Primer elemento \n",
      "- Segundo elemento \n"
     ]
    }
   ],
   "source": [
    "bold_italic_itemize = bold_1 + italic_1 + itemize_1\n",
    "print(latex_a_markdown(bold_italic_itemize))"
   ]
  },
  {
   "cell_type": "code",
   "execution_count": null,
   "metadata": {},
   "outputs": [],
   "source": []
  }
 ],
 "metadata": {
  "kernelspec": {
   "display_name": "Python 3",
   "language": "python",
   "name": "python3"
  },
  "language_info": {
   "codemirror_mode": {
    "name": "ipython",
    "version": 3
   },
   "file_extension": ".py",
   "mimetype": "text/x-python",
   "name": "python",
   "nbconvert_exporter": "python",
   "pygments_lexer": "ipython3",
   "version": "3.8.4"
  }
 },
 "nbformat": 4,
 "nbformat_minor": 4
}
