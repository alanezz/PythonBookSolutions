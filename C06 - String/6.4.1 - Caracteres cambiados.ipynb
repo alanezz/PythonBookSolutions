{
 "cells": [
  {
   "cell_type": "markdown",
   "metadata": {},
   "source": [
    "# Ejercicio 6.4.1 - Caracteres cambiados"
   ]
  },
  {
   "cell_type": "markdown",
   "metadata": {},
   "source": [
    "Escribe un programa en python que obtenga el *string* original, dado un *string* donde se han intercambiado todas las instancias de la primera letra por un \"@\". Por ejemplo del *string*  \"paralele@i@edo\", se debe obtener \"paralelepipedo\"."
   ]
  },
  {
   "cell_type": "code",
   "execution_count": 1,
   "metadata": {},
   "outputs": [
    {
     "name": "stdout",
     "output_type": "stream",
     "text": [
      "paralelepipedo\n"
     ]
    }
   ],
   "source": [
    "def cambiar_caracter(string_cambiado):\n",
    "    primer_caracter = string_cambiado[0]\n",
    "    string_original = string_cambiado.replace('@', primer_caracter)\n",
    "    return string_original\n",
    "\n",
    "print(cambiar_caracter(\"paralele@i@edo\"))"
   ]
  },
  {
   "cell_type": "code",
   "execution_count": null,
   "metadata": {},
   "outputs": [],
   "source": []
  }
 ],
 "metadata": {
  "kernelspec": {
   "display_name": "Python 3",
   "language": "python",
   "name": "python3"
  },
  "language_info": {
   "codemirror_mode": {
    "name": "ipython",
    "version": 3
   },
   "file_extension": ".py",
   "mimetype": "text/x-python",
   "name": "python",
   "nbconvert_exporter": "python",
   "pygments_lexer": "ipython3",
   "version": "3.8.4"
  }
 },
 "nbformat": 4,
 "nbformat_minor": 4
}
