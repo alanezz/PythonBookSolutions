{
 "cells": [
  {
   "cell_type": "markdown",
   "metadata": {},
   "source": [
    "# Ejercicio 9.6.1 - Cola de supermercado"
   ]
  },
  {
   "cell_type": "markdown",
   "metadata": {},
   "source": [
    "A continuación, se presenta una posible solución al ejercicio 9.6.1 del capítulo 9, donde se pide simular una cola de supermercado: "
   ]
  },
  {
   "cell_type": "code",
   "execution_count": 14,
   "metadata": {},
   "outputs": [
    {
     "name": "stdout",
     "output_type": "stream",
     "text": [
      "### Día 1 ###\n",
      "Quedaron en espera: 10\n",
      "Se atendieron: 38\n",
      "### Día 2 ###\n",
      "Quedaron en espera: 11\n",
      "Se atendieron: 38\n",
      "### Día 3 ###\n",
      "Quedaron en espera: 10\n",
      "Se atendieron: 37\n",
      "### Día 4 ###\n",
      "Quedaron en espera: 11\n",
      "Se atendieron: 38\n",
      "### Día 5 ###\n",
      "Quedaron en espera: 11\n",
      "Se atendieron: 38\n",
      "\n",
      "Resultados finales:\n",
      "Promedio por día de clientes que no son atendidos:  10.6\n",
      "Promedio por día de clientes atendidos:  37.8\n",
      "Promedio de lo que se demora un cliente:  12.699857752489333\n"
     ]
    }
   ],
   "source": [
    "import random\n",
    "\n",
    "\n",
    "# Creamos las clases necesarias para la simulación\n",
    "class Cliente:\n",
    "    def __init__(self):\n",
    "        self.t_servicio = 0 # Tiempo que se demoran en atenderlo.\n",
    "        \n",
    "    def cambiar_t_servicio(self, tiempo):\n",
    "        self.t_servicio = tiempo \n",
    "\n",
    "class Servicio:\n",
    "    def __init__(self):\n",
    "        self.cliente_actual = None\n",
    "        \n",
    "    def pasar_cliente(self, un_cliente):\n",
    "        self.cliente_actual = un_cliente\n",
    "        tiempo = random.randint(10, 15) # La caja tarda en atender entre 10 y 15 minutos.\n",
    "        un_cliente.cambiar_t_servicio(tiempo) # Le asignamos el tiempo que demoraremos en atenderlo.\n",
    "        \n",
    "\n",
    "class Simulacion:\n",
    "    def __init__(self):\n",
    "        self.serv = Servicio()\n",
    "        self.clientes_atendidos = 0\n",
    "        self.tiempo_en_atencion = 0\n",
    "        self.lista_de_espera = []\n",
    "\n",
    "        primer_cliente = random.randint(7,12) # Los clientes llegan entre 7 y 12 minutos.\n",
    "        self.siguiente_cliente = primer_cliente # Tiempo en el que llegará el siguiente cliente\n",
    "\n",
    "    def ejecutar(self):\n",
    "        minutos = 480 # La caja está abierta durante 480 minutos.\n",
    "        while minutos >= 0:\n",
    "            # Si aún falta para que llegue el cliente, disminuimos su tiempo de llegada.\n",
    "            if self.siguiente_cliente > 0:\n",
    "                self.siguiente_cliente -= 1\n",
    "                \n",
    "            # Si llega un cliente, se agrega a la lista de espera.\n",
    "            if self.siguiente_cliente == 0:\n",
    "                self.lista_de_espera.append(Cliente())\n",
    "                t = random.randint(7, 12) # Generamos el tiempo del siguiente cliente\n",
    "                self.siguiente_cliente = t # Actualizamos el contador que espera la llegada de un nuevo cliente\n",
    "                \n",
    "            # Si se está atendiendo a alguien, disminuimos su tiempo de servicio\n",
    "            if (self.serv).cliente_actual != None:\n",
    "                ((self.serv).cliente_actual).t_servicio -= 1\n",
    "                # Si se termina de atender se suma a clientes atendidos y se setea a None el cliente actual.\n",
    "                if ((self.serv).cliente_actual).t_servicio == 0:\n",
    "                    self.clientes_atendidos += 1\n",
    "                    ((self.serv).cliente_actual) = None\n",
    "                    \n",
    "            # Si no se está atendiendo a alguien y hay alguien esperando, atendemos al sgte en lista de espera.\n",
    "            if (self.serv).cliente_actual == None:\n",
    "                if len(self.lista_de_espera) > 0:\n",
    "                    ti = (self.serv).pasar_cliente(self.lista_de_espera[0])\n",
    "                    self.lista_de_espera.pop(0)                       \n",
    "            \n",
    "            minutos -= 1\n",
    "            \n",
    "        print('Quedaron en espera: ' + str(len(self.lista_de_espera)))\n",
    "        print('Se atendieron: ' + str(self.clientes_atendidos))\n",
    "        return len(self.lista_de_espera), self.clientes_atendidos\n",
    "\n",
    "# Programa principal\n",
    "dia = 1\n",
    "sum_lista_espera = 0\n",
    "sum_clientes_atendidos = 0\n",
    "sum_prom_tiempo = 0\n",
    "for i in range(0, 5): # Debemos realizar la simulación de 5 días.\n",
    "    print('### Día ' + str(dia)+ ' ###')\n",
    "    mi_simulacion = Simulacion()\n",
    "    ejecucion = mi_simulacion.ejecutar()\n",
    "    clientes_esperando = ejecucion[0]\n",
    "    clientes_atendidos = ejecucion[1]\n",
    "    sum_lista_espera += clientes_esperando\n",
    "    sum_clientes_atendidos += clientes_atendidos\n",
    "    sum_prom_tiempo += (480 / clientes_atendidos)\n",
    "    dia += 1\n",
    "\n",
    "print('\\nResultados finales:')\n",
    "print('Promedio por día de clientes que no son atendidos: ', sum_lista_espera / 5)\n",
    "print('Promedio por día de clientes atendidos: ', sum_clientes_atendidos / 5)\n",
    "print('Promedio de lo que se demora un cliente: ', sum_prom_tiempo / 5)"
   ]
  },
  {
   "cell_type": "markdown",
   "metadata": {},
   "source": [
    "Notemos que, para las simulaciones, es una buena práctica tener como **variables** nuestros parámetros de simulación que son constantes. En nuestro ejercicio, la cantidad de días a simular, los minutos por día que atiende la caja y los intervalos de tiempo en que llegan y son atendidos los clientes. Entonces, tendríamos algo del estilo:"
   ]
  },
  {
   "cell_type": "code",
   "execution_count": 12,
   "metadata": {},
   "outputs": [],
   "source": [
    "DIAS = 5\n",
    "MINUTOS = 480\n",
    "T_LLEGADA_CLIENTES = (7, 12)\n",
    "T_ATENCION = (10, 15)"
   ]
  },
  {
   "cell_type": "markdown",
   "metadata": {},
   "source": [
    "Que luego utilizaríamos como variables en el resto del código. "
   ]
  }
 ],
 "metadata": {
  "kernelspec": {
   "display_name": "Python 3",
   "language": "python",
   "name": "python3"
  },
  "language_info": {
   "codemirror_mode": {
    "name": "ipython",
    "version": 3
   },
   "file_extension": ".py",
   "mimetype": "text/x-python",
   "name": "python",
   "nbconvert_exporter": "python",
   "pygments_lexer": "ipython3",
   "version": "3.8.4"
  }
 },
 "nbformat": 4,
 "nbformat_minor": 2
}
