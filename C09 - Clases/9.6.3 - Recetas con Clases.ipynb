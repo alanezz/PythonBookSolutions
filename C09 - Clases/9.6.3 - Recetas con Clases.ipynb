{
 "cells": [
  {
   "cell_type": "markdown",
   "metadata": {},
   "source": [
    "# Ejercicio 9.6.3 - Recetas con Clases"
   ]
  },
  {
   "cell_type": "markdown",
   "metadata": {},
   "source": [
    "Ahora que has aprendido un poco más sobre clases, se te ocurre que se puede mejorar aún más el código que hiciste en la sección 8 para ayudar a tu amiga Jessi con su emprendimiento de pastelería. Además decides mejorar un poco la usabilidad del programa. Si no recuerdas el ejercicio, o no lo hiciste, revisa el enunciado del ejercicio propuesto [8.3.3](https://github.com/alanezz/PythonBookSolutions/blob/master/C08%20-%20Diccionarios%20y%20Tuplas/8.3.3%20-%20Recetas%20con%20diccionarios%20y%20tuplas.ipynb)\n",
    "\n",
    "Para este ejercicio, modifica lo siguiente a tu código anterior: \n",
    "\n",
    "- Ahora, el usuario tendrá que ingresar las unidades de medida tanto de la receta como del precio, y tu serás el encargado de verificar que todo esté en orden. Por lo tanto, debes pedir al usuario que, además, ingrese la unidad de medida del precio unitario. \n",
    "- Agrega la clase ``Ingrediente`` que tiene nombre, precio unitario y unidad (por ejemplo, 800 por Litro sería un precio unitario de 800 y una unidad de Litro).\n",
    "- Agrega la clase ``Receta`` que tiene nombre y una lista de ingredientes, donde cada ingrediente es una tupla que contiene: ingrediente (de tipo ``Ingrediente``), medida que va en la receta y unidad de medida (por ejemplo, cc). \n",
    "- La clase ``Receta`` tiene dos métodos:\n",
    "\t\n",
    "\t- ``verificar_unidades()``: que recibe como parámetro el diccionario con equivalencias y verifica si es que las unidades de medida que van en la receta tienen una correspondencia con la unidad ingresada luego del precio unitario, a través del diccionario con equivalencias. Si todo está en orden, este método debe retornar ``True``, si no se encontró la unidad de medida de la receta en el diccionario debe retornar ``False`` e imprimir \"Hay una unidad que no se encuentra en el diccionario\", y si para la unidad de medida de la receta, la unidad ingresada de precio unitario no coincide con la del diccionario de equivalencias, debe retornar``False`` e imprimir \"Hay un problema con las unidades, revisa lo que ingresaste\".\n",
    "\t- ``calcular_precio()``: que recibe como parámetro el diccionario con equivalencias y calcula el precio de la receta. Este método utiliza la información que contiene su clase y el diccionario de equivalencias para calcular y retornar el precio. \n",
    "\t\n",
    "- Cuando el usuario ingrese el nombre de la receta, se debe instanciar una ``Receta``.\n",
    "- Cuando el usuario termine de ingresar todos los datos de un ingrediente, se debe instanciar un ``Ingrediente`` y agregar a la lista de ingredientes de la receta una tupla con el ingrediente instanciado, la medida y la unidad.\n",
    "- En el programa principal, se debe calcular el precio de la receta solo si la verificación de unidades retorna ``True``."
   ]
  },
  {
   "cell_type": "markdown",
   "metadata": {},
   "source": [
    "Agregamos la clase ``Ingrediente``:"
   ]
  },
  {
   "cell_type": "code",
   "execution_count": 1,
   "metadata": {},
   "outputs": [],
   "source": [
    "class Ingrediente:\n",
    "    def __init__(self, nombre, precio, unidad):\n",
    "        self.nombre = nombre\n",
    "        self.precio = precio\n",
    "        self.unidad = unidad"
   ]
  },
  {
   "cell_type": "markdown",
   "metadata": {},
   "source": [
    "Agregamos la clase ``Receta`` con sus métodos:"
   ]
  },
  {
   "cell_type": "code",
   "execution_count": 3,
   "metadata": {},
   "outputs": [],
   "source": [
    "class Receta:\n",
    "    def __init__(self, nombre):\n",
    "        self.nombre = nombre\n",
    "        self.ingredientes_receta = [] # lista de tuplas (ingrediente, medida, unidad)\n",
    "    \n",
    "    def verificar_unidades(self, equivalencias):\n",
    "        for ingrediente_receta in self.ingredientes_receta:\n",
    "            nombre_ingrediente = ingrediente_receta[0].nombre\n",
    "            unidad_receta = ingrediente_receta[2]\n",
    "            if unidad_receta in equivalencias.keys():\n",
    "                if equivalencias[unidad_receta][1] != ingrediente_receta[0].unidad:\n",
    "                    print(\"Hay un problema con las unidades, revisa lo que ingresaste\")\n",
    "                    return False\n",
    "            else:\n",
    "                print(\"Hay una unidad que no se encuentra en el diccionario\")\n",
    "                return False\n",
    "        return True\n",
    "        \n",
    "\n",
    "    def calcular_precio(self, equivalencias):\n",
    "        precio = 0\n",
    "        for ingrediente_receta in self.ingredientes_receta:\n",
    "            medida = float(ingrediente_receta[1])\n",
    "            unidad_receta = ingrediente_receta[2]\n",
    "            equivalencia = equivalencias[unidad_receta][0]\n",
    "            precio_unitario = float(ingrediente_receta[0].precio)\n",
    "            precio += (medida * equivalencia * precio_unitario)\n",
    "        return precio"
   ]
  },
  {
   "cell_type": "markdown",
   "metadata": {},
   "source": [
    "Tenemos el diccionario de equivalencias:"
   ]
  },
  {
   "cell_type": "code",
   "execution_count": 4,
   "metadata": {},
   "outputs": [],
   "source": [
    "equivalencias = {\n",
    "    \"cc\": (0.001, \"Litro\"), \n",
    "    \"gr\": (0.001, \"Kg\"),\n",
    "    \"unidad\": (1, \"Unidad\")\n",
    "}"
   ]
  },
  {
   "cell_type": "markdown",
   "metadata": {},
   "source": [
    "Modificamos nuestro programa principal:"
   ]
  },
  {
   "cell_type": "code",
   "execution_count": 5,
   "metadata": {},
   "outputs": [
    {
     "name": "stdout",
     "output_type": "stream",
     "text": [
      "Ingresa el nombre de la receta: Panqueques\n",
      "--- Menú ---\n",
      "1. Agregar ingrediente\n",
      " 2. Calcular precio\n",
      "Qué deseas hacer?: 1\n",
      "Ingresa el nombre del ingrediente: Huevo\n",
      "Ingresa la cantidad que va en la receta: 2\n",
      "Ingresa la unidad de medida que va en la receta: unidad\n",
      "Ingresa el precio unitario: 50\n",
      "Ingresa la unidad de medida del precio: Unidad\n",
      "--- Menú ---\n",
      "1. Agregar ingrediente\n",
      " 2. Calcular precio\n",
      "Qué deseas hacer?: 1\n",
      "Ingresa el nombre del ingrediente: Leche\n",
      "Ingresa la cantidad que va en la receta: 200\n",
      "Ingresa la unidad de medida que va en la receta: cc\n",
      "Ingresa el precio unitario: 800\n",
      "Ingresa la unidad de medida del precio: Litro\n",
      "--- Menú ---\n",
      "1. Agregar ingrediente\n",
      " 2. Calcular precio\n",
      "Qué deseas hacer?: 2\n",
      "El precio de la receta Panqueques es: $ 260.0\n"
     ]
    }
   ],
   "source": [
    "menu = \"--- Menú ---\\n1. Agregar ingrediente\\n 2. Calcular precio\"\n",
    "\n",
    "nombre_receta = input(\"Ingresa el nombre de la receta: \")\n",
    "# Instanciamos la receta\n",
    "receta = Receta(nombre_receta)\n",
    "\n",
    "continuar = True\n",
    "while continuar:\n",
    "    print(menu)\n",
    "    opcion = input(\"Qué deseas hacer?: \")\n",
    "    if opcion == \"1\":\n",
    "\n",
    "        nombre_ingrediente = input(\"Ingresa el nombre del ingrediente: \")\n",
    "        cantidad = float(input(\"Ingresa la cantidad que va en la receta: \"))\n",
    "        unidad_cantidad = input(\"Ingresa la unidad de medida que va en la receta: \")\n",
    "        precio_unitario = float(input(\"Ingresa el precio unitario: \"))\n",
    "        # Pedimos al usuario la unidad del precio unitario\n",
    "        unidad_precio = input(\"Ingresa la unidad de medida del precio: \")\n",
    "\n",
    "        # Instanciamos un ingrediente\n",
    "        ingrediente = Ingrediente(nombre_ingrediente, precio_unitario, unidad_precio)\n",
    "        # Agregamos a la lista de ingredientes de la receta, la tupla correspondiente\n",
    "        receta.ingredientes_receta.append((ingrediente, cantidad, unidad_cantidad))\n",
    "\n",
    "    elif opcion == \"2\":\n",
    "        continuar = False\n",
    "\n",
    "# Calculamos el precio solo si verificar_precio retornó True\n",
    "if receta.verificar_unidades(equivalencias):\n",
    "    precio = receta.calcular_precio(equivalencias)\n",
    "    print(\"El precio de la receta\", receta.nombre, \"es: $\", precio)"
   ]
  },
  {
   "cell_type": "code",
   "execution_count": null,
   "metadata": {},
   "outputs": [],
   "source": []
  }
 ],
 "metadata": {
  "kernelspec": {
   "display_name": "Python 3",
   "language": "python",
   "name": "python3"
  },
  "language_info": {
   "codemirror_mode": {
    "name": "ipython",
    "version": 3
   },
   "file_extension": ".py",
   "mimetype": "text/x-python",
   "name": "python",
   "nbconvert_exporter": "python",
   "pygments_lexer": "ipython3",
   "version": "3.8.4"
  }
 },
 "nbformat": 4,
 "nbformat_minor": 4
}
