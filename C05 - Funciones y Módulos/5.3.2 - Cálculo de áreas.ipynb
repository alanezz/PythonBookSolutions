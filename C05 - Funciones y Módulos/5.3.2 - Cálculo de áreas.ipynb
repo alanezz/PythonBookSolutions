{
 "cells": [
  {
   "cell_type": "markdown",
   "metadata": {},
   "source": [
    "# Ejercicio 5.3.2 - Cálculo de áreas"
   ]
  },
  {
   "cell_type": "markdown",
   "metadata": {},
   "source": [
    "Escribe un programa que tenga las siguientes funciones:\n",
    "\n",
    "- ``calcular_area_rectangulo()``: que recibe como parámetros la base y la altura de un rectángulo y retorna el área.\n",
    "- ``calcular_area_circulo()``: que recibe como parámetros el radio de un triángulo y retorna su área.\n",
    "\n",
    "Luego, utilizando esas funciones, imprime el área de un rectángulo con base 10 y altura 3, y el área de un círculo de radio 5."
   ]
  },
  {
   "cell_type": "code",
   "execution_count": 1,
   "metadata": {},
   "outputs": [
    {
     "name": "stdout",
     "output_type": "stream",
     "text": [
      "30\n",
      "78.53981633974483\n"
     ]
    }
   ],
   "source": [
    "import math\n",
    "\n",
    "def calcular_area_rectangulo(base, altura):\n",
    "    return base * altura\n",
    "\n",
    "def calcular_area_circulo(radio):\n",
    "    return math.pi * (radio ** 2)\n",
    "\n",
    "print(calcular_area_rectangulo(10,3))\n",
    "print(calcular_area_circulo(5))"
   ]
  },
  {
   "cell_type": "code",
   "execution_count": null,
   "metadata": {},
   "outputs": [],
   "source": []
  }
 ],
 "metadata": {
  "kernelspec": {
   "display_name": "Python 3",
   "language": "python",
   "name": "python3"
  },
  "language_info": {
   "codemirror_mode": {
    "name": "ipython",
    "version": 3
   },
   "file_extension": ".py",
   "mimetype": "text/x-python",
   "name": "python",
   "nbconvert_exporter": "python",
   "pygments_lexer": "ipython3",
   "version": "3.8.4"
  }
 },
 "nbformat": 4,
 "nbformat_minor": 4
}
