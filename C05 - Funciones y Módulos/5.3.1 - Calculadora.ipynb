{
 "cells": [
  {
   "cell_type": "markdown",
   "metadata": {},
   "source": [
    "# Ejercicio 5.3.1 - Calculadora"
   ]
  },
  {
   "cell_type": "markdown",
   "metadata": {},
   "source": [
    "Escribe el mismo programa que en el ejemplo 4.2.7, pero esta vez utiliza funciones para definir los operadores."
   ]
  },
  {
   "cell_type": "code",
   "execution_count": 1,
   "metadata": {},
   "outputs": [
    {
     "name": "stdout",
     "output_type": "stream",
     "text": [
      "Ingresa el primer número a: 2\n",
      "Ingresa el segundo número b: 1\n",
      "Ingresa la operación: \n",
      " 1) Suma \n",
      " 2) Resta \n",
      " 3) Mult \n",
      " 4) Div \n",
      " 5) Salir \n",
      "2\n",
      "1.0\n",
      "Ingresa el primer número a: 2\n",
      "Ingresa el segundo número b: 1\n",
      "Ingresa la operación: \n",
      " 1) Suma \n",
      " 2) Resta \n",
      " 3) Mult \n",
      " 4) Div \n",
      " 5) Salir \n",
      "3\n",
      "2.0\n",
      "Ingresa el primer número a: 1\n",
      "Ingresa el segundo número b: 1\n",
      "Ingresa la operación: \n",
      " 1) Suma \n",
      " 2) Resta \n",
      " 3) Mult \n",
      " 4) Div \n",
      " 5) Salir \n",
      "5\n",
      "Adiós!\n"
     ]
    }
   ],
   "source": [
    "def suma(a, b):\n",
    "    return a + b \n",
    "\n",
    "def resta(a, b):\n",
    "    return a - b \n",
    "\n",
    "def multiplicacion(a, b):\n",
    "    return a * b \n",
    "\n",
    "def division(a, b):\n",
    "    return a / b \n",
    "\n",
    "\n",
    "while True :\n",
    "    a = float(input(\"Ingresa el primer número a: \"))\n",
    "    b = float(input(\"Ingresa el segundo número b: \"))\n",
    "    menu = \"Ingresa la operación: \\n 1) Suma \\n 2) Resta \\n 3) Mult \\n 4) Div \\n 5) Salir \\n\"\n",
    "    opcion = input(menu)\n",
    "    \n",
    "    if opcion == \"1\":\n",
    "        print(suma(a,b))\n",
    "    elif opcion == \"2\":\n",
    "        print(resta(a,b))\n",
    "    elif opcion == \"3\":\n",
    "        print(multiplicacion(a,b))\n",
    "    elif opcion == \"4\":\n",
    "        print(division(a,b))\n",
    "    elif opcion == \"5\":\n",
    "        print (\"Adiós!\")\n",
    "        break\n",
    "    else:\n",
    "        print (\"La operación ingresada no es válida\")"
   ]
  },
  {
   "cell_type": "code",
   "execution_count": null,
   "metadata": {},
   "outputs": [],
   "source": []
  }
 ],
 "metadata": {
  "kernelspec": {
   "display_name": "Python 3",
   "language": "python",
   "name": "python3"
  },
  "language_info": {
   "codemirror_mode": {
    "name": "ipython",
    "version": 3
   },
   "file_extension": ".py",
   "mimetype": "text/x-python",
   "name": "python",
   "nbconvert_exporter": "python",
   "pygments_lexer": "ipython3",
   "version": "3.8.4"
  }
 },
 "nbformat": 4,
 "nbformat_minor": 4
}
