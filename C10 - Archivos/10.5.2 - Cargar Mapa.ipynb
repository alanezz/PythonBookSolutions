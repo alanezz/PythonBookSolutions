{
 "cells": [
  {
   "cell_type": "markdown",
   "metadata": {},
   "source": [
    "# Ejercicio 10.5.2 - Cargar Mapa"
   ]
  },
  {
   "cell_type": "markdown",
   "metadata": {},
   "source": [
    "Escribe un programa que permita leer un archivo de texto que contiene un mapa representado con caracteres y guardarlo en una lista de listas. El mapa puede tener los siguientes caracteres: \"x\" que es un muro, \" \" que es un espacio libre, \"c\" que es el capitán y \"t\" que es un tesoro. Todas las líneas tienen la misma cantidad de caracteres, pero la cantidad de líneas del archivo no necesariamente es igual a la cantidad de caracteres (no necesariamente es una matriz cuadrada). Un ejemplo de archivo de texto se vería como el siguiente:\n",
    "\n",
    "```\n",
    "xxxxxxxx\n",
    "x xxxxxx\n",
    "xcxxt xx\n",
    "x     xx\n",
    "xxxxxxxx\n",
    "```\n",
    "\n",
    "Que quedaría guardado de la siguiente forma:\n",
    "\n",
    "```py\n",
    "mapa = [\n",
    "['x', 'x', 'x', 'x', 'x', 'x', 'x', 'x'],\n",
    "['x', ' ', 'x', 'x', 'x', 'x', 'x', 'x'],\n",
    "['x', 'c', 'x', 'x', 't', ' ', 'x', 'x'],\n",
    "['x', ' ', ' ', ' ', ' ', ' ', 'x', 'x'],\n",
    "['x', 'x', 'x', 'x', 'x', 'x', 'x', 'x']\n",
    "]\n",
    "```"
   ]
  },
  {
   "cell_type": "code",
   "execution_count": 2,
   "metadata": {},
   "outputs": [],
   "source": [
    "def cargar_mapa(nombre_archivo):\n",
    "    mapa = []\n",
    "    with open(nombre_archivo, 'r') as f:\n",
    "        lineas = f.readlines()\n",
    "        for linea in lineas:\n",
    "            fila = []\n",
    "            for columna in linea.strip():\n",
    "                fila.append(columna)\n",
    "            print(fila)\n",
    "            mapa.append(fila)\n",
    "    return mapa"
   ]
  },
  {
   "cell_type": "code",
   "execution_count": 3,
   "metadata": {},
   "outputs": [
    {
     "name": "stdout",
     "output_type": "stream",
     "text": [
      "['x', 'x', 'x', 'x', 'x', 'x', 'x', 'x']\n",
      "['x', ' ', 'x', 'x', 'x', 'x', 'x', 'x']\n",
      "['x', 'c', 'x', 'x', 't', ' ', 'x', 'x']\n",
      "['x', ' ', ' ', ' ', ' ', ' ', 'x', 'x']\n",
      "['x', 'x', 'x', 'x', 'x', 'x', 'x', 'x']\n"
     ]
    },
    {
     "data": {
      "text/plain": [
       "[['x', 'x', 'x', 'x', 'x', 'x', 'x', 'x'],\n",
       " ['x', ' ', 'x', 'x', 'x', 'x', 'x', 'x'],\n",
       " ['x', 'c', 'x', 'x', 't', ' ', 'x', 'x'],\n",
       " ['x', ' ', ' ', ' ', ' ', ' ', 'x', 'x'],\n",
       " ['x', 'x', 'x', 'x', 'x', 'x', 'x', 'x']]"
      ]
     },
     "execution_count": 3,
     "metadata": {},
     "output_type": "execute_result"
    }
   ],
   "source": [
    "mapa_01 = \"Archivos_Mapa/mapa_01.txt\"\n",
    "cargar_mapa(mapa_01)"
   ]
  },
  {
   "cell_type": "code",
   "execution_count": 4,
   "metadata": {},
   "outputs": [
    {
     "name": "stdout",
     "output_type": "stream",
     "text": [
      "['x', 'x', 'x', 'x', 'x', 'x', 'x', 'x', 'x', 'x']\n",
      "['x', ' ', ' ', ' ', 'x', ' ', ' ', 'c', ' ', 'x']\n",
      "['x', ' ', ' ', ' ', 'x', ' ', ' ', ' ', ' ', 'x']\n",
      "['x', ' ', ' ', ' ', ' ', ' ', ' ', ' ', 'x', 'x']\n",
      "['x', ' ', 'x', 'x', 'x', 'x', 'x', 'x', 'x', 'x']\n",
      "['x', ' ', ' ', ' ', ' ', 't', 'x', 'x', 'x', 'x']\n",
      "['x', 'x', 'x', 'x', 'x', 'x', 'x', 'x', 'x', 'x']\n"
     ]
    },
    {
     "data": {
      "text/plain": [
       "[['x', 'x', 'x', 'x', 'x', 'x', 'x', 'x', 'x', 'x'],\n",
       " ['x', ' ', ' ', ' ', 'x', ' ', ' ', 'c', ' ', 'x'],\n",
       " ['x', ' ', ' ', ' ', 'x', ' ', ' ', ' ', ' ', 'x'],\n",
       " ['x', ' ', ' ', ' ', ' ', ' ', ' ', ' ', 'x', 'x'],\n",
       " ['x', ' ', 'x', 'x', 'x', 'x', 'x', 'x', 'x', 'x'],\n",
       " ['x', ' ', ' ', ' ', ' ', 't', 'x', 'x', 'x', 'x'],\n",
       " ['x', 'x', 'x', 'x', 'x', 'x', 'x', 'x', 'x', 'x']]"
      ]
     },
     "execution_count": 4,
     "metadata": {},
     "output_type": "execute_result"
    }
   ],
   "source": [
    "mapa_02 = \"Archivos_Mapa/mapa_02.txt\"\n",
    "cargar_mapa(mapa_02)"
   ]
  },
  {
   "cell_type": "code",
   "execution_count": null,
   "metadata": {},
   "outputs": [],
   "source": []
  }
 ],
 "metadata": {
  "kernelspec": {
   "display_name": "Python 3",
   "language": "python",
   "name": "python3"
  },
  "language_info": {
   "codemirror_mode": {
    "name": "ipython",
    "version": 3
   },
   "file_extension": ".py",
   "mimetype": "text/x-python",
   "name": "python",
   "nbconvert_exporter": "python",
   "pygments_lexer": "ipython3",
   "version": "3.8.4"
  }
 },
 "nbformat": 4,
 "nbformat_minor": 4
}
