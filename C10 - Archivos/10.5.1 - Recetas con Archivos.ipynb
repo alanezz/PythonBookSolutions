{
 "cells": [
  {
   "cell_type": "markdown",
   "metadata": {},
   "source": [
    "# Ejercicio 10.5.1 - Recetas con Archivos"
   ]
  },
  {
   "cell_type": "markdown",
   "metadata": {},
   "source": [
    "Le mostraste a tu amiga Jessi el programa que hiciste en la sección 9 para ayudarla con su emprendiemiento, pero te dijo que ella no se manejaba mucho con los computadores por lo que te pidió hacerle alguna mejora para que ella lo pudiera utilizar más fácilmente. Ahora que has aprendido a trabajar con archivos, crees que es mucho más fácil que ella escriba en archivos de texto los ingredientes con sus precios unitarios y las recetas con sus respectivos ingredientes y medidas, además de guardar la información con los precios de las recetas en otro archivo para que tu amiga pueda revisarlos más fácilmente. Si no recuerdas el ejercicio, o no lo hiciste, revisa el enunciado del ejercicio propuesto [9.6.3](https://github.com/alanezz/PythonBookSolutions/blob/master/C09%20-%20Clases/9.6.3%20-%20Recetas%20con%20Clases.ipynb).\n",
    "\n",
    "Por lo tanto, modifica lo siguiente a tu código anterior:\n",
    "\n",
    "- A la clase ``Receta`` agrégale el método``guardar_precio()`` que recibe como parámetros el diccionario con equivalencias y el nombre del archivo donde se guardará la información. Este método llama a ``calcular_precio`` para obtener el precio de la receta y lo escribe en el archivo señalado de la siguiente forma: \"Nombre receta - $precio\". Debes abrir el archivo con la opción ``'a'``.\n",
    "- En tu programa principal crea la siguientes funciones:\n",
    "\n",
    "\t- ``crear_ingredientes()``: que recibe como parámetro el nombre del archivo que contiene los ingredientes junto a sus precios unitarios. Este archivo tendrá el siguiente formato: en cada línea se detalla un ingrediente diferente, con el nombre del ingrediente, el precio unitario y la unidad de medida, todo separado a través de \";\" (por ejemplo, una línea del archivo podría ser: Leche;800;Litro). Para cada línea del archivo, se debe instanciar un ``Ingrediente`` y agregarlo a un diccionario que tiene como llaves los nombres de los ingredientes y como valor los objetos ingredientes instanciados. El método debe retornar este diccionario de ingredientes. \n",
    "\t- ``crear_receta()``: que recibe como parámetros el nombre del archivo que contiene la información de la receta y el diccionario de ingredientes generado con la función anterior. El formato del archivo de la receta es el siguiente: la primera línea contiene el nombre de la receta y las demás líneas siguen la forma Nombre ingrediente;cantidad;unidad (por ejemplo, Huevo;2;unidad o Leche;200;cc). Este método instancia una ``Receta`` con el nombre de la primera línea del archivo y luego, para cada línea va guardando los ingredientes en la receta instanciada (recuerda que ``Receta`` tiene un atributo que guarda los ingredientes como una lista de tuplas de la forma (ingrediente -de tipo ``Ingrediente``-, medida, unidad). Ten en consideración que para guardar un objeto de tipo ``Ingrediente`` tendrás que acceder al diccionario de ingredientes que le pasaste como parámetro. El método retorna la receta instanciada.\n",
    "\n",
    "- En tu programa principal tendrás que ejecutar los métodos anteriormente creados.\n",
    "- Podrás guardar el precio de una receta solo si la verificación de unidades retornó ``True``.\n",
    "- Puedes asumir que el nombre del ingrediente que viene en el archivo de receta es el mismo que el que viene en el archivo de precios.\n",
    "- También puedes asumir que los archivos de texto están en la misma carpeta que el programa. En este ejemplo, para mantener el orden, guadaremos los archivos en la carpeta \"Archivos_Recetas\".\n",
    "- Al ejecutar tu programa, se creará un archivo de texto con los precios de las recetas que pasaron la condición de verificación."
   ]
  },
  {
   "cell_type": "markdown",
   "metadata": {},
   "source": [
    "Tenemos nuestra clase ``Ingrediente`` que habíamos agregado en la sección anterior:"
   ]
  },
  {
   "cell_type": "code",
   "execution_count": null,
   "metadata": {},
   "outputs": [],
   "source": [
    "class Ingrediente:\n",
    "    def __init__(self, nombre, precio, unidad):\n",
    "        self.nombre = nombre\n",
    "        self.precio = precio\n",
    "        self.unidad = unidad"
   ]
  },
  {
   "cell_type": "markdown",
   "metadata": {},
   "source": [
    "A nuestra clase ``Receta`` le agregamos el método ``guardar_precio()``:"
   ]
  },
  {
   "cell_type": "code",
   "execution_count": 9,
   "metadata": {},
   "outputs": [],
   "source": [
    "class Receta:\n",
    "    def __init__(self, nombre):\n",
    "        self.nombre = nombre\n",
    "        self.ingredientes_receta = [] # lista de tuplas (ingrediente, medida, unidad)\n",
    "    \n",
    "    def verificar_unidades(self, equivalencias):\n",
    "        for ingrediente_receta in self.ingredientes_receta:\n",
    "            nombre_ingrediente = ingrediente_receta[0].nombre\n",
    "            unidad_receta = ingrediente_receta[2]\n",
    "            if unidad_receta in equivalencias.keys():\n",
    "                if equivalencias[unidad_receta][1] != ingrediente_receta[0].unidad:\n",
    "                    print(\"Hay un problema con las unidades, revisa tus archivos\")\n",
    "                    return False\n",
    "            else:\n",
    "                print(\"Hay una unidad que no se encuentra en el diccionario\")\n",
    "                return False\n",
    "        return True\n",
    "        \n",
    "\n",
    "    def calcular_precio(self, equivalencias):\n",
    "        precio = 0\n",
    "        for ingrediente_receta in self.ingredientes_receta:\n",
    "            medida = float(ingrediente_receta[1])\n",
    "            unidad_receta = ingrediente_receta[2]\n",
    "            equivalencia = equivalencias[unidad_receta][0]\n",
    "            precio_unitario = float(ingrediente_receta[0].precio)\n",
    "            precio += (medida * equivalencia * precio_unitario)\n",
    "        return precio\n",
    "\n",
    "    def guardar_precio(self, equivalencias, nombre_archivo):\n",
    "        # llamamos al método calcular precio\n",
    "        precio = self.calcular_precio(equivalencias)\n",
    "        print(\"PRECIO: $\", precio)\n",
    "        # lo agregamos al archivo\n",
    "        with open(nombre_archivo, 'a') as f:\n",
    "            f.write(\"{} - ${}\\n\".format(self.nombre, precio))"
   ]
  },
  {
   "cell_type": "markdown",
   "metadata": {},
   "source": [
    "Creamos la función ``crear_ingredientes()``:"
   ]
  },
  {
   "cell_type": "code",
   "execution_count": null,
   "metadata": {},
   "outputs": [],
   "source": [
    "def crear_ingredientes(nombre_archivo):\n",
    "    ingredientes = {} # { nombre_ingrediente: objecto_ingrediente}\n",
    "    with open(nombre_archivo, 'r') as f:\n",
    "        lines = f.readlines()\n",
    "        for line in lines:\n",
    "            precio_ingrediente = line.split(';')\n",
    "            nombre = precio_ingrediente[0].strip()\n",
    "            precio = precio_ingrediente[1].strip()\n",
    "            unidad = precio_ingrediente[2].strip()\n",
    "            ingrediente = Ingrediente(nombre, precio, unidad)\n",
    "            ingredientes[ingrediente.nombre] = ingrediente\n",
    "    return ingredientes"
   ]
  },
  {
   "cell_type": "markdown",
   "metadata": {},
   "source": [
    "Creamos la función ``crear_receta()``:"
   ]
  },
  {
   "cell_type": "code",
   "execution_count": 10,
   "metadata": {},
   "outputs": [],
   "source": [
    "def crear_receta(nombre_archivo, ingredientes):\n",
    "    with open(nombre_archivo, 'r') as f:\n",
    "        lines = f.readlines()\n",
    "        nombre_receta = lines[0].strip()\n",
    "        receta = Receta(nombre_receta)\n",
    "        for line in lines[1:]:\n",
    "            ingrediente_medida = line.split(\";\")\n",
    "            nombre_ingrediente = ingrediente_medida[0].strip()\n",
    "            medida = ingrediente_medida[1].strip()\n",
    "            unidad = ingrediente_medida[2].strip()\n",
    "            ingrediente = ingredientes[nombre_ingrediente]\n",
    "            receta.ingredientes_receta.append((ingrediente, medida, unidad))\n",
    "    return receta"
   ]
  },
  {
   "cell_type": "markdown",
   "metadata": {},
   "source": [
    "Tenemos nuestras equivalencias:"
   ]
  },
  {
   "cell_type": "code",
   "execution_count": null,
   "metadata": {},
   "outputs": [],
   "source": [
    "equivalencias = {\n",
    "    \"cc\": (0.001, \"Litro\"), \n",
    "    \"gr\": (0.001, \"Kg\"),\n",
    "    \"unidad\": (1, \"Unidad\")\n",
    "}"
   ]
  },
  {
   "cell_type": "markdown",
   "metadata": {},
   "source": [
    "En nuestro programa principal, utilizamos las funciones creadas para los archivos creados en este ejemplo, y para cada una de las recetas guardamos su precio en el archivo \"precios_recetas.txt\" si es que pasan la verifiación de unidades."
   ]
  },
  {
   "cell_type": "code",
   "execution_count": 14,
   "metadata": {},
   "outputs": [
    {
     "name": "stdout",
     "output_type": "stream",
     "text": [
      "PRECIO: $ 260.0\n",
      "PRECIO: $ 529.8\n",
      "Hay una unidad que no se encuentra en el diccionario\n",
      "PRECIO: $ 738.9\n"
     ]
    }
   ],
   "source": [
    "# Creamos los ingredientes\n",
    "ingredientes = crear_ingredientes(\"Archivos_Recetas/precios_ingredientes.txt\")\n",
    "\n",
    "# Creamos las recetas, calculamos su precio y lo guardamos\n",
    "receta0 = crear_receta(\"Archivos_Recetas/receta_00.txt\", ingredientes)\n",
    "if receta0.verificar_unidades(equivalencias):\n",
    "    receta0.guardar_precio(equivalencias, \"Archivos_Recetas/precios_recetas.txt\")\n",
    "    \n",
    "receta1 = crear_receta(\"Archivos_Recetas/receta_01.txt\", ingredientes)\n",
    "if receta1.verificar_unidades(equivalencias):\n",
    "    receta1.guardar_precio(equivalencias, \"Archivos_Recetas/precios_recetas.txt\")\n",
    "    \n",
    "receta2 = crear_receta(\"Archivos_Recetas/receta_02.txt\", ingredientes)\n",
    "if receta2.verificar_unidades(equivalencias):\n",
    "    receta2.guardar_precio(equivalencias, \"Archivos_Recetas/precios_recetas.txt\")\n",
    "    \n",
    "receta3 = crear_receta(\"Archivos_Recetas/receta_03.txt\", ingredientes)\n",
    "if receta3.verificar_unidades(equivalencias):\n",
    "    receta3.guardar_precio(equivalencias, \"Archivos_Recetas/precios_recetas.txt\")"
   ]
  },
  {
   "cell_type": "code",
   "execution_count": null,
   "metadata": {},
   "outputs": [],
   "source": []
  }
 ],
 "metadata": {
  "kernelspec": {
   "display_name": "Python 3",
   "language": "python",
   "name": "python3"
  },
  "language_info": {
   "codemirror_mode": {
    "name": "ipython",
    "version": 3
   },
   "file_extension": ".py",
   "mimetype": "text/x-python",
   "name": "python",
   "nbconvert_exporter": "python",
   "pygments_lexer": "ipython3",
   "version": "3.8.4"
  }
 },
 "nbformat": 4,
 "nbformat_minor": 4
}
